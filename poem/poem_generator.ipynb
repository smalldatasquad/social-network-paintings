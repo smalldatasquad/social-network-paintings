{
 "cells": [
  {
   "cell_type": "markdown",
   "metadata": {},
   "source": [
    "# Network Poet\n",
    "\n",
    "This is a example of using python to download data from Google Sheets, turn it into a network graph, and to create poetry by traversing / wandering around on the graph!\n",
    "\n"
   ]
  },
  {
   "cell_type": "code",
   "execution_count": 2,
   "metadata": {},
   "outputs": [],
   "source": [
    "# Uncomment the line below to run it once, so that you install the necessary libraries.\n",
    "# Then comment it again since you only have to run it once.\n",
    "\n",
    "!pip install requests jgraph tracery"
   ]
  },
  {
   "cell_type": "code",
   "execution_count": 3,
   "metadata": {},
   "outputs": [],
   "source": [
    "import requests\n",
    "# this downloads/requests stuff from the internet \n",
    "\n",
    "import csv\n",
    "# this helps you parse csv\n",
    "\n",
    "import re\n",
    "# this uses regular expressions, or regex, a way to search grab chunks of text from a string\n",
    "\n",
    "from pprint import pprint\n",
    "# this helps us 'pretty print' data -- 'pretty print' is a term that means nicely formatting & outputting data\n",
    "\n",
    "import random\n",
    "# this helps us choose items from a list randomly, or to create random numbers, etc\n",
    "\n",
    "import jgraph\n",
    "# this helps us visualize the graph!\n",
    "\n",
    "import tracery\n",
    "# this is a library for generative text\n",
    "# made by none other than Allison Parrish!"
   ]
  },
  {
   "cell_type": "markdown",
   "metadata": {},
   "source": [
    "## Downloading data\n",
    "\n",
    "How do we get the data?\n",
    "We're going to use a semi-hidden function in Google Sheets - if you go to a specially formatted URL, then Google Sheets will return the data CSV (comma separated value) of the spreadsheet.\n",
    "\n",
    "### Let's get ready to download things by generating a URL.."
   ]
  },
  {
   "cell_type": "code",
   "execution_count": 4,
   "metadata": {},
   "outputs": [],
   "source": [
    "# You can replace `gsheet_url` with a link to a publicly viable Google Sheet\n",
    "\n",
    "gsheet_url = \"https://docs.google.com/spreadsheets/d/10Pg_M4B0oSclEu0V-JSi3WTa1yISBjpjZ9KTVHDuUD8/edit#gid=443195507\""
   ]
  },
  {
   "cell_type": "markdown",
   "metadata": {},
   "source": [
    "This cell uses RegEx, or regular expressions, to do an advanced search and extract the document ID and sheet ID from `gsheet_url`. \n",
    "\n",
    "Regular expressions are incredibly helpful, and can also be a bit cryptic (for everyone), so for right now, you don't have to understand exactly how `getDocIdFromUrl` and `getSheetIdFromUrl` work."
   ]
  },
  {
   "cell_type": "code",
   "execution_count": 5,
   "metadata": {},
   "outputs": [
    {
     "name": "stdout",
     "output_type": "stream",
     "text": [
      "https://docs.google.com/spreadsheets/d/10Pg_M4B0oSclEu0V-JSi3WTa1yISBjpjZ9KTVHDuUD8/export?gid=443195507&format=csv\n"
     ]
    }
   ],
   "source": [
    "# define functions that extract the doc ID / sheet ID from gsheet_url\n",
    "def getDocIdFromUrl(url):\n",
    "    return re.search(\"([-\\w]{25,})\", url).group(1)\n",
    "def getSheetIdFromUrl(url):\n",
    "    return re.search(\"gid=([-\\w]+)\", url).group(1)\n",
    "\n",
    "\n",
    "# craft the URL that gives us a CSV\n",
    "gsheet_csv_url = \"https://docs.google.com/spreadsheets/d/\" + getDocIdFromUrl(gsheet_url) + \"/export?gid=\" + getSheetIdFromUrl(gsheet_url) + \"&format=csv\"\n",
    "\n",
    "\n",
    "# if you're curious, try going to this url in your browser! It will automatically download a CSV file\n",
    "print(gsheet_csv_url)"
   ]
  },
  {
   "cell_type": "markdown",
   "metadata": {},
   "source": [
    "### Now we download the data! \n"
   ]
  },
  {
   "cell_type": "code",
   "execution_count": 6,
   "metadata": {},
   "outputs": [
    {
     "name": "stdout",
     "output_type": "stream",
     "text": [
      "[['clap', 'sit'], ['clap', 'jump'], ['jump', 'laugh'], ['laugh', 'twirl'], ['twirl', 'jump'], ['twirl', 'clap'], ['hop', 'skip'], ['skip', 'jump'], ['hop', 'clap']]\n"
     ]
    }
   ],
   "source": [
    "# get response from URL\n",
    "response = requests.get(gsheet_csv_url)\n",
    "\n",
    "\n",
    "# make sure it's read/decoded with the right text encoding!\n",
    "decoded_content = response.content.decode('utf-8')\n",
    "\n",
    "\n",
    "# using the CSV library, parse the data! \n",
    "# Split the content on each 'newline', then make sure we use a comma as a delimiter to understand the difference between cells.\n",
    "# also - ignore the first line, because it's the header info for the csv\n",
    "edges = list(csv.reader(decoded_content.splitlines()[1:], delimiter=','))\n",
    "\n",
    "\n",
    "print(edges)"
   ]
  },
  {
   "cell_type": "markdown",
   "metadata": {},
   "source": [
    "Optionally, if you want to open a local CSV file on your computer instead, you can use the code in this comment! Just make sure that `sheet.csv` is in the same directory as this Jupyter notebook file."
   ]
  },
  {
   "cell_type": "code",
   "execution_count": 7,
   "metadata": {},
   "outputs": [],
   "source": [
    "#with open(\"sheet.csv\", \"r\") as f:\n",
    "#    reader = csv.reader(f)\n",
    "#    edges = list(reader)\n",
    "#print(edges)"
   ]
  },
  {
   "cell_type": "markdown",
   "metadata": {},
   "source": [
    "### Let's quickly visualize the data\n",
    "\n",
    "Jgraph is a library designed to visualize network graphs in 3D. It doesn't show labels, but you can get a general, visual/spatial sense of what the network _feels_ like."
   ]
  },
  {
   "cell_type": "code",
   "execution_count": 13,
   "metadata": {
    "scrolled": false
   },
   "outputs": [
    {
     "data": {
      "text/html": [
       "<div id=\"graph-c9387083-ecee-451c-b471-20c7cc6d74ee\"></div>\n",
       "           <script type=\"text/javascript\">\n",
       "           require.config({baseUrl: '/',\n",
       "                             paths: {jgraph: ['nbextensions/jgraph.min', 'https://rawgit.com/patrickfuller/jgraph/master/js/build/jgraph.min']}});\n",
       "           require(['jgraph'], function () {\n",
       "               var $d = $('#graph-c9387083-ecee-451c-b471-20c7cc6d74ee');\n",
       "               $d.width(600); $d.height(400);\n",
       "               $d.jgraph = jQuery.extend({}, jgraph);\n",
       "               $d.jgraph.create($d, {nodeSize: 2.000000,\n",
       "                                     edgeSize: 0.250000,\n",
       "                                     defaultNodeColor: '0x5bc0de',\n",
       "                                     defaultEdgeColor: '0xaaaaaa',\n",
       "                                     shader: 'basic',\n",
       "                                     z: 100,\n",
       "                                     runOptimization: true,\n",
       "                                     directed: true,\n",
       "                                     showSave: false});\n",
       "               $d.jgraph.draw({\n",
       "    \"edges\": [\n",
       "        { \"source\": \"clap\", \"target\": \"sit\" },\n",
       "        { \"source\": \"clap\", \"target\": \"jump\" },\n",
       "        { \"source\": \"jump\", \"target\": \"laugh\" },\n",
       "        { \"source\": \"laugh\", \"target\": \"twirl\" },\n",
       "        { \"source\": \"twirl\", \"target\": \"jump\" },\n",
       "        { \"source\": \"twirl\", \"target\": \"clap\" },\n",
       "        { \"source\": \"hop\", \"target\": \"skip\" },\n",
       "        { \"source\": \"skip\", \"target\": \"jump\" },\n",
       "        { \"source\": \"hop\", \"target\": \"clap\" }\n",
       "    ],\n",
       "    \"nodes\": {\n",
       "        \"clap\": { \"location\": [ 0.12830114026444794, -0.23279256477091742, -0.05905531998619349 ] },\n",
       "        \"hop\": { \"location\": [ 1.3184714886481368, 1.377466209431148, 0.7728997902695584 ] },\n",
       "        \"jump\": { \"location\": [ 2.0, 2.0, 2.0 ] },\n",
       "        \"laugh\": { \"location\": [ -1.286961774165373, -1.005850002134704, -1.453032246220038 ] },\n",
       "        \"sit\": { \"location\": [ -2.0, -2.0, -2.0 ] },\n",
       "        \"skip\": { \"location\": [ 2.0, 2.0, 2.0 ] },\n",
       "        \"twirl\": { \"location\": [ -2.0, -2.0, -2.0 ] }\n",
       "    }\n",
       "});\n",
       "\n",
       "               $d.resizable({\n",
       "                   aspectRatio: 600 / 400,\n",
       "                   resize: function (evt, ui) {\n",
       "                       $d.jgraph.renderer.setSize(ui.size.width,\n",
       "                                                  ui.size.height);\n",
       "                   }\n",
       "               });\n",
       "           });\n",
       "           </script>"
      ],
      "text/plain": [
       "<IPython.core.display.HTML object>"
      ]
     },
     "metadata": {},
     "output_type": "display_data"
    }
   ],
   "source": [
    "jgraph.draw(edges)"
   ]
  },
  {
   "cell_type": "markdown",
   "metadata": {},
   "source": [
    "## Let's create a network graph data structure!\n",
    "\n",
    "The network graph, like the exercise in Graph Commons, assumes that each entry or row in the spreadsheet is a link between the `from` and `to` nodes.\n",
    "\n",
    "We're going to run through our data, get all the unique nodes, and then use that list to fill a `dict` to represent a graph. \n",
    "\n",
    "### Get unique nodes"
   ]
  },
  {
   "cell_type": "code",
   "execution_count": 9,
   "metadata": {},
   "outputs": [
    {
     "name": "stdout",
     "output_type": "stream",
     "text": [
      "['sit', 'twirl', 'laugh', 'clap', 'hop', 'skip', 'jump']\n"
     ]
    }
   ],
   "source": [
    "all_nodes = []\n",
    "\n",
    "for e in edges:\n",
    "    # add the first node in the edge to all_nodes\n",
    "    all_nodes.append(e[0])\n",
    "    # add the second node in the edge to all_nodes\n",
    "    all_nodes.append(e[1])\n",
    "    \n",
    "# a 'set' is a data structure that can only contain unique elements --\n",
    "# so by converting to a set and back to a list, we get only a unique list of nodes.\n",
    "unique_nodes = list(set(all_nodes))\n",
    "\n",
    "print(unique_nodes)\n",
    "\n",
    "#### here's a challenge: the single line below does the exact same thing as the lines of code above. can you see why?\n",
    "# unique_nodes = list(set([e for edge in edges for e in edge]))\n"
   ]
  },
  {
   "cell_type": "markdown",
   "metadata": {},
   "source": [
    "#### (On dicts)\n",
    "\n",
    "Now, we're going to create a `dict` that represents a graph.\n",
    "\n",
    "A dict stores things in a `key-value` structure. You can metaphorically think of `keys` are like `names on mailboxes`, `values` are like the `content inside the mailbox`.\n",
    "\n",
    "You can 'look up' data using the `key`, and get the `value` that's inside. \n",
    "\n",
    "For example,\n",
    "```\n",
    "sfpc = { \"address\": \"155 bank st\", \"year founded\": \"2013\" }\n",
    "print(sfpc['year founded']) ## 2013\n",
    "```\n",
    "\n",
    "Dicts are a really helpful (and opinionated!) way to structure data.\n",
    "\n",
    "\n",
    "\n",
    "\n",
    "\n"
   ]
  },
  {
   "cell_type": "markdown",
   "metadata": {},
   "source": [
    "### Create a graph\n",
    "\n",
    "For example, if you have data `a <-> b, b <-> c, c <-> a`, the `graph` dict will look like:\n",
    "\n",
    "```\n",
    "graph = {\n",
    "        'a': ['b', 'c'],\n",
    "        'b': ['c', 'a'],\n",
    "        'c': ['a', 'b']\n",
    "        }\n",
    "```\n",
    "This is what's called an [adjacency list](https://en.wikipedia.org/wiki/Adjacency_list), because the data stores the list of adjacencies -- what's close to what.\n",
    "\n",
    "For example: `graph['b']` will return `['c', 'a']`\n",
    "which lets us know that \"adjacent to node `b` are nodes `c` and `a`\"\n",
    "\n",
    "(Imagine what the data would look like in jgraph - any ideas?)"
   ]
  },
  {
   "cell_type": "code",
   "execution_count": 10,
   "metadata": {},
   "outputs": [
    {
     "name": "stdout",
     "output_type": "stream",
     "text": [
      "{'clap': ['sit', 'jump', 'twirl', 'hop'],\n",
      " 'hop': ['skip', 'clap'],\n",
      " 'jump': ['clap', 'laugh', 'twirl', 'skip'],\n",
      " 'laugh': ['jump', 'twirl'],\n",
      " 'sit': ['clap'],\n",
      " 'skip': ['hop', 'jump'],\n",
      " 'twirl': ['laugh', 'jump', 'clap']}\n"
     ]
    }
   ],
   "source": [
    "graph = {}\n",
    "\n",
    "# iterate through edges\n",
    "\n",
    "for edge in edges:\n",
    "    \n",
    "    # for each edge, let's define 'node_from' and 'node_to' so that the code is easier for humans to read\n",
    "\n",
    "    node_from = edge[0]\n",
    "    node_to = edge[1]\n",
    "    \n",
    "    # if the node_from doesn't already exist in the 'graph' dict, \n",
    "    # let's insert node_from as a key, and have the value be an empty array\n",
    "\n",
    "    if(node_from not in graph):\n",
    "        graph[node_from] = []\n",
    "    \n",
    "    # in the array that exists in graph[node_from], add node_to\n",
    "\n",
    "    graph[node_from].append(node_to)\n",
    "    \n",
    "    # let's do it in the reverse, since we'll assume that the graph isn't directed\n",
    "    # which means that there's no directional relationship.\n",
    " \n",
    "    if(node_to not in graph):\n",
    "        graph[node_to] = []\n",
    "    graph[node_to].append(node_from)\n",
    "    \n",
    "# now you can see how the data is structured as an adjacency list!\n",
    "# compare this against the data output from the CSV and see if you can tell what's going on intuitively.\n",
    "\n",
    "# pprint will nicely format the dict.\n",
    "pprint(graph)"
   ]
  },
  {
   "cell_type": "code",
   "execution_count": 11,
   "metadata": {},
   "outputs": [
    {
     "name": "stdout",
     "output_type": "stream",
     "text": [
      "dict_keys(['clap', 'sit', 'jump', 'laugh', 'twirl', 'hop', 'skip'])\n"
     ]
    }
   ],
   "source": [
    "# let's see all the keys of the graph!\n",
    "# this happens to equal the list of 'unique_nodes'.. and that's not a coincidence\n",
    "\n",
    "print(graph.keys())"
   ]
  },
  {
   "cell_type": "markdown",
   "metadata": {},
   "source": [
    "## Poetry\n",
    "\n",
    "Here comes the poetry part! \n",
    "\n",
    "Imagine our graph -- with words on a node. There's a lot of different ways this could turn into poetry - different games and processes that would alter how the graph is 'read'. \n",
    "\n",
    "### Randomly walking around on the graph\n",
    "\n",
    "We'll try a `random graph traversal`. \n",
    "1. We'll start at a random node.\n",
    "2. Then, we'll examine the nodes we can connect to, and randomly jump to one of those nodes.\n",
    "3. And then we'll repeat step 2 a few times.\n",
    "\n",
    "Consider this traversal to be in line with the spirit of a [Situationist dérive](https://en.wikipedia.org/wiki/D%C3%A9rive), or a fluxus art game -- but with a graph!"
   ]
  },
  {
   "cell_type": "code",
   "execution_count": 12,
   "metadata": {},
   "outputs": [
    {
     "ename": "NameError",
     "evalue": "name 'thisnode' is not defined",
     "output_type": "error",
     "traceback": [
      "\u001b[0;31m---------------------------------------------------------------------------\u001b[0m",
      "\u001b[0;31mNameError\u001b[0m                                 Traceback (most recent call last)",
      "\u001b[0;32m<ipython-input-12-e22cb73fca7e>\u001b[0m in \u001b[0;36m<module>\u001b[0;34m()\u001b[0m\n\u001b[1;32m      4\u001b[0m \u001b[0mcurrent_node\u001b[0m \u001b[0;34m=\u001b[0m \u001b[0mrandom\u001b[0m\u001b[0;34m.\u001b[0m\u001b[0mchoice\u001b[0m\u001b[0;34m(\u001b[0m\u001b[0mlist\u001b[0m\u001b[0;34m(\u001b[0m\u001b[0mgraph\u001b[0m\u001b[0;34m.\u001b[0m\u001b[0mkeys\u001b[0m\u001b[0;34m(\u001b[0m\u001b[0;34m)\u001b[0m\u001b[0;34m)\u001b[0m\u001b[0;34m)\u001b[0m\u001b[0;34m\u001b[0m\u001b[0m\n\u001b[1;32m      5\u001b[0m \u001b[0;34m\u001b[0m\u001b[0m\n\u001b[0;32m----> 6\u001b[0;31m \u001b[0mprint\u001b[0m \u001b[0;34m(\u001b[0m\u001b[0mthisnode\u001b[0m \u001b[0;34m+\u001b[0m \u001b[0;34m\" ==> \"\u001b[0m\u001b[0;34m)\u001b[0m\u001b[0;34m\u001b[0m\u001b[0m\n\u001b[0m\u001b[1;32m      7\u001b[0m \u001b[0;34m\u001b[0m\u001b[0m\n\u001b[1;32m      8\u001b[0m \u001b[0;31m# do this five times\u001b[0m\u001b[0;34m\u001b[0m\u001b[0;34m\u001b[0m\u001b[0m\n",
      "\u001b[0;31mNameError\u001b[0m: name 'thisnode' is not defined"
     ]
    }
   ],
   "source": [
    "# choose a random node and hop skip randomly to what it's connected to\n",
    "\n",
    "# choose a random node!\n",
    "current_node = random.choice(list(graph.keys()))\n",
    "\n",
    "print (current_node + \" ==> \")\n",
    "\n",
    "# do this five times\n",
    "for i in range(5):\n",
    "    \n",
    "    # find all the options we can go to in the graph from 'current_node'\n",
    "    to_options = graph[current_node]\n",
    "    # pick one of those randomly and set 'current_node' that node\n",
    "    current_node = random.choice(to_options)\n",
    "    \n",
    "    print (current_node + \" ==> \")\n",
    "    \n",
    "    \n",
    "# try running this repeatedly"
   ]
  },
  {
   "cell_type": "markdown",
   "metadata": {},
   "source": [
    "That worked great! Let's put this inside a function, and then define a *list of verbs* we'll use to make this list a little bit.. poetic."
   ]
  },
  {
   "cell_type": "code",
   "execution_count": null,
   "metadata": {},
   "outputs": [],
   "source": [
    "\n",
    "def randomly_traverse_graph(graph, number_of_steps):\n",
    "\n",
    "    current_node = random.choice(list(graph.keys()))\n",
    "    \n",
    "    steps = []\n",
    "    steps.append(current_node)\n",
    "    \n",
    "    for i in range(number_of_steps - 1):\n",
    "        to_options = graph[current_node]\n",
    "        current_node = random.choice(to_options)\n",
    "        steps.append(current_node)\n",
    "        \n",
    "    return steps\n",
    "    \n",
    "    \n",
    "    \n",
    "print(randomly_traverse_graph(graph, 5))\n"
   ]
  },
  {
   "cell_type": "code",
   "execution_count": null,
   "metadata": {},
   "outputs": [],
   "source": [
    "list_of_verbs = [\"affects\", \"changes\", \"alters\", \"relates to\", \"thinks about\",\"touches\",\"creates dreams about\",\"helps\",\"also is connected to\"]\n"
   ]
  },
  {
   "cell_type": "markdown",
   "metadata": {},
   "source": [
    "### Words from our random walk\n",
    "\n",
    "Now, we'll generate our random path through the graph, then for each word in the list, we'll randomly choose a verb, and list them together."
   ]
  },
  {
   "cell_type": "code",
   "execution_count": null,
   "metadata": {},
   "outputs": [],
   "source": [
    "steps = randomly_traverse_graph(graph, 5)\n",
    "\n",
    "for s in steps:\n",
    "    random_verb = random.choice(list_of_verbs)\n",
    "    print(s + \" \" + random_verb)\n"
   ]
  },
  {
   "cell_type": "markdown",
   "metadata": {},
   "source": [
    "This is getting somewhere! What if we printed out the list in pairs, so that the verb is between two of the words?"
   ]
  },
  {
   "cell_type": "code",
   "execution_count": null,
   "metadata": {},
   "outputs": [],
   "source": [
    "poem = \"\"\n",
    "\n",
    "for i in range(len(steps) - 1):\n",
    "    word = steps[i]\n",
    "    next_word = steps[i + 1]\n",
    "    \n",
    "    # each line is a word, a random verb, and then the next word\n",
    "    poem += word + \" \" + random.choice(list_of_verbs) + \" \" + next_word\n",
    "    \n",
    "    # if it's the last line add a period; otherwise add a semicolon\n",
    "    if(i == len(steps) - 2):\n",
    "        poem += \".\"\n",
    "    else:\n",
    "        poem += \"; \"    \n",
    "\n",
    "\n",
    "print(poem)"
   ]
  },
  {
   "cell_type": "markdown",
   "metadata": {},
   "source": [
    "This works great! Imagine ways in which you could alter this -- by altering the list of verbs, or adding a list of adverbs as well as verbs, changing the formatting. \n",
    "\n",
    "## Poetry with Tracery \n",
    "\n",
    "In this next and last section, we'll use Tracery, a library created by Kate Compton (and ported to Python by Allison Parrish) to do some more complex poetry creation. \n",
    "\n",
    "For a really good intro to Tracery, see Allison Parrish's tutorial from her *Reading and Writing Electronic Text* class on [Tracery and Python](https://github.com/aparrish/rwet/blob/master/tracery-and-python.ipynb).\n",
    "\n",
    "**The simple explanation is:**\n",
    "\n",
    "In Tracery, you define a 'grammar', consisting of lists of words. \n",
    "\n",
    "\n"
   ]
  },
  {
   "cell_type": "code",
   "execution_count": null,
   "metadata": {},
   "outputs": [],
   "source": [
    "testGrammar = { \"season\": [\"summer\", \"spring\", \"autumn\", \"winter\"] }"
   ]
  },
  {
   "cell_type": "markdown",
   "metadata": {},
   "source": [
    "Each list of word is represented by a starting symbol. (In the above case, `season`).\n",
    "\n",
    "If you use that starting symbol with # symbols around it (`#season#`), then Tracery will randomly pick one of the lists of words and use it.\n",
    "\n"
   ]
  },
  {
   "cell_type": "code",
   "execution_count": null,
   "metadata": {},
   "outputs": [],
   "source": [
    "print(tracery.Grammar(testGrammar).flatten(\"#season#\"))\n",
    "\n",
    "# try running this repeatedly"
   ]
  },
  {
   "cell_type": "markdown",
   "metadata": {},
   "source": [
    "Grammars can be nested; you can have a grammar that calls another grammar. Here's an example using our graph data:"
   ]
  },
  {
   "cell_type": "code",
   "execution_count": null,
   "metadata": {},
   "outputs": [],
   "source": [
    "def generate_simple_line(node_from, node_to):\n",
    "    grammarSource = {\n",
    "        \"node_from\": node_from,\n",
    "        \"node_to\": node_to,\n",
    "        \"adverb\": \"suddenly|silently|happily|surprisingly|calmly|beautifully\".split(\"|\"),\n",
    "        \"verb\":  [\"affects\", \"dances around\", \"changes\", \"alters\", \"relates to\", \"thinks about\",\"touches\",\"creates dreams about\",\"helps\",\"also is connected to\"],\n",
    "        \"poem\": \"#node_from# #adverb# #verb# #node_to#\"\n",
    "    }\n",
    "    grammar = tracery.Grammar(grammarSource)\n",
    "    return grammar.flatten(\"#poem#\")\n",
    "    \n",
    "print(generate_simple_line(\"the moon\", \"the sun\"))\n"
   ]
  },
  {
   "cell_type": "code",
   "execution_count": null,
   "metadata": {},
   "outputs": [],
   "source": [
    "steps = randomly_traverse_graph(graph, 10)\n",
    "\n",
    "poem = \"\"\n",
    "for i in range(len(steps) - 1):\n",
    "    step = steps[i]\n",
    "    next_step = steps[i + 1]\n",
    "    poem += generate_simple_line(step, next_step) + \"\\n\"\n",
    "\n",
    "print(poem)"
   ]
  },
  {
   "cell_type": "code",
   "execution_count": null,
   "metadata": {},
   "outputs": [],
   "source": [
    "def generate_poem_line(node_from, node_to):\n",
    "    grammarSource = {\n",
    "        \"node_from\": node_from,\n",
    "        \"node_to\": node_to,\n",
    "        \"wonderadj\": \"quiet|solemn|contemplative|still|tender|harmonious\".split(\"|\"),\n",
    "        \"tensionadj\": \"trembling|buzzing|vibrating|swirling\".split(\"|\"),\n",
    "        \"adj\": \"#wonderadj#,|#tensionadj#,\".split(\"|\"),\n",
    "        \"name\": \"fire|bother|wonder|winter\".split(\"|\"),\n",
    "        \"earlylate\": \"early |late |mid-\".split(\"|\"),\n",
    "        \"season\": \"autumn|summer|fall|winter\".split(\"|\"),\n",
    "        \"seasonornot\": \"|in #earlylate##season#, \".split(\"|\"),\n",
    "        \"adverbornot\": \"|#adverb#\".split(\"|\"),\n",
    "        \"adverb\": \"briskly|tartly|simply|harshly|fuzzily|freely|ably|copiously|furtively|endlessly|sarcastically|generatively|slowly|distinctly\".split(\"|\"),\n",
    "        \"verbs\": \"dances|thinks|touches|dreams|hesitates|loves|feels|wanders|does|sits|reads|looks|runs|asks|collapses|chats|donates\".split(\"|\"),\n",
    "        \"preposition\": \"around|about|with|of|to|from\".split(\"|\"),\n",
    "        \"lineending\": ['',',',';','--','.'],\n",
    "        \"poemline1\": \"#adj# #node_from# #adverb# #verbs# #preposition# #node_to##lineending#\",\n",
    "        \"poemline2\": \"#seasonornot##node_from# and #node_to# #adverb# #verbs##lineending#\",\n",
    "        \"poem\": \"#poemline1#|#poemline2#\".split(\"|\")\n",
    "    }\n",
    "    grammar = tracery.Grammar(grammarSource)\n",
    "    return grammar.flatten(\"#poem#\")\n",
    "    \n",
    "print(generate_poem_line(\"moon\", \"sun\"))\n"
   ]
  },
  {
   "cell_type": "code",
   "execution_count": null,
   "metadata": {},
   "outputs": [],
   "source": [
    "steps = randomly_traverse_graph(graph, 10)\n",
    "\n",
    "poem = \"\"\n",
    "for i in range(len(steps) - 1):\n",
    "    step = steps[i]\n",
    "    next_step = steps[i + 1]\n",
    "    poem += generate_poem_line(step, next_step) + \"\\n\"\n",
    "\n",
    "print(poem)"
   ]
  },
  {
   "cell_type": "code",
   "execution_count": null,
   "metadata": {},
   "outputs": [],
   "source": []
  },
  {
   "cell_type": "code",
   "execution_count": null,
   "metadata": {},
   "outputs": [],
   "source": []
  },
  {
   "cell_type": "code",
   "execution_count": null,
   "metadata": {},
   "outputs": [],
   "source": []
  },
  {
   "cell_type": "code",
   "execution_count": null,
   "metadata": {},
   "outputs": [],
   "source": []
  }
 ],
 "metadata": {
  "kernelspec": {
   "display_name": "Python 3",
   "language": "python",
   "name": "python3"
  },
  "language_info": {
   "codemirror_mode": {
    "name": "ipython",
    "version": 3
   },
   "file_extension": ".py",
   "mimetype": "text/x-python",
   "name": "python",
   "nbconvert_exporter": "python",
   "pygments_lexer": "ipython3",
   "version": "3.6.5"
  }
 },
 "nbformat": 4,
 "nbformat_minor": 2
}

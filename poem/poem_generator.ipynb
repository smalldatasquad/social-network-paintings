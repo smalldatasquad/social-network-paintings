{
 "cells": [
  {
   "cell_type": "code",
   "execution_count": 623,
   "metadata": {},
   "outputs": [],
   "source": [
    "#!pip install requests jgraph tracery"
   ]
  },
  {
   "cell_type": "code",
   "execution_count": 624,
   "metadata": {},
   "outputs": [],
   "source": [
    "import requests\n",
    "# this downloads/requests stuff from the internet \n",
    "\n",
    "import csv\n",
    "# this helps you parse csv\n",
    "\n",
    "import re\n",
    "# this uses regular expressions, or regex, a way to search grab chunks of text from a string\n",
    "\n",
    "from pprint import pprint\n",
    "# this helps us 'pretty print' data -- 'pretty print' is a term that means nicely formatting & outputting data\n",
    "\n",
    "import random\n",
    "# this helps us choose items from a list randomly, or to create random numbers, etc\n",
    "\n",
    "import jgraph\n",
    "# this helps us visualize the graph!\n",
    "\n",
    "import tracery\n",
    "# this is a library for generative text"
   ]
  },
  {
   "cell_type": "markdown",
   "metadata": {},
   "source": [
    "# Poem Generator\n",
    "\n",
    "### Download the data!\n",
    "Replace `gsheet_url` with a link to a publicly viable Google Sheet"
   ]
  },
  {
   "cell_type": "code",
   "execution_count": 670,
   "metadata": {},
   "outputs": [],
   "source": [
    "gsheet_url = \"https://docs.google.com/spreadsheets/d/1RzZ8jivpLRQtFnCD39Rp3kzCRr_JnpyBkOAzLpVRIMw/edit#gid=443195507\""
   ]
  },
  {
   "cell_type": "markdown",
   "metadata": {},
   "source": [
    "This cell uses RegEx, or regular expressions, to do an advanced search and extract the document ID and sheet ID from `gsheet_url`."
   ]
  },
  {
   "cell_type": "code",
   "execution_count": 671,
   "metadata": {},
   "outputs": [
    {
     "name": "stdout",
     "output_type": "stream",
     "text": [
      "https://docs.google.com/spreadsheets/d/1RzZ8jivpLRQtFnCD39Rp3kzCRr_JnpyBkOAzLpVRIMw/export?gid=443195507&format=csv\n"
     ]
    }
   ],
   "source": [
    "# define functions that extract the doc ID / sheet ID from gsheet_url\n",
    "def getDocIdFromUrl(url):\n",
    "    return re.search(\"([-\\w]{25,})\", url).group(1)\n",
    "def getSheetIdFromUrl(url):\n",
    "    return re.search(\"gid=([-\\w]+)\", url).group(1)\n",
    "\n",
    "# craft the URL that gives us a CSV\n",
    "gsheet_csv_url = \"https://docs.google.com/spreadsheets/d/\" + getDocIdFromUrl(gsheet_url) + \"/export?gid=\" + getSheetIdFromUrl(gsheet_url) + \"&format=csv\"\n",
    "\n",
    "# if you're curious, try going to this url in your browser! It will automatically download a CSV file\n",
    "print(gsheet_csv_url)"
   ]
  },
  {
   "cell_type": "markdown",
   "metadata": {},
   "source": [
    "Now we download the data! \n",
    "Optionally, if you want to get the data from a `*.csv` file that's saved on your computer, look at the next block."
   ]
  },
  {
   "cell_type": "code",
   "execution_count": 672,
   "metadata": {},
   "outputs": [
    {
     "name": "stdout",
     "output_type": "stream",
     "text": [
      "[['code', 'societies']]\n"
     ]
    }
   ],
   "source": [
    "# get response from URL\n",
    "response = requests.get(gsheet_csv_url)\n",
    "\n",
    "# make sure it's read/decoded with the right text encoding!\n",
    "decoded_content = response.content.decode('utf-8')\n",
    "\n",
    "# using the CSV library, parse the data! \n",
    "# Split the content on each 'newline', then make sure we use a comma as a delimiter to understand the difference between cells.\n",
    "# also - ignore the first line, because it's the header info for the csv\n",
    "edges = list(csv.reader(decoded_content.splitlines()[1:], delimiter=','))\n",
    "\n",
    "print(edges)"
   ]
  },
  {
   "cell_type": "markdown",
   "metadata": {},
   "source": [
    "If you want to open a local CSV file on your computer, you can use the code in this comment! Just make sure that `sheet.csv` is in the same directory as this Jupyter notebook file."
   ]
  },
  {
   "cell_type": "code",
   "execution_count": 673,
   "metadata": {},
   "outputs": [
    {
     "data": {
      "text/plain": [
       "'\\nwith open(\"sheet.csv\", \"r\") as f:\\n    reader = csv.reader(f)\\n    edges = list(reader)\\n\\nprint(edges)\\n'"
      ]
     },
     "execution_count": 673,
     "metadata": {},
     "output_type": "execute_result"
    }
   ],
   "source": [
    "\"\"\"\n",
    "with open(\"sheet.csv\", \"r\") as f:\n",
    "    reader = csv.reader(f)\n",
    "    edges = list(reader)\n",
    "\n",
    "print(edges)\n",
    "\"\"\""
   ]
  },
  {
   "cell_type": "code",
   "execution_count": 674,
   "metadata": {
    "scrolled": false
   },
   "outputs": [
    {
     "data": {
      "text/html": [
       "<div id=\"graph-c3826881-d39e-4099-946e-d5cf77d62f2d\"></div>\n",
       "           <script type=\"text/javascript\">\n",
       "           require.config({baseUrl: '/',\n",
       "                             paths: {jgraph: ['nbextensions/jgraph.min', 'https://rawgit.com/patrickfuller/jgraph/master/js/build/jgraph.min']}});\n",
       "           require(['jgraph'], function () {\n",
       "               var $d = $('#graph-c3826881-d39e-4099-946e-d5cf77d62f2d');\n",
       "               $d.width(600); $d.height(400);\n",
       "               $d.jgraph = jQuery.extend({}, jgraph);\n",
       "               $d.jgraph.create($d, {nodeSize: 2.000000,\n",
       "                                     edgeSize: 0.250000,\n",
       "                                     defaultNodeColor: '0x5bc0de',\n",
       "                                     defaultEdgeColor: '0xaaaaaa',\n",
       "                                     shader: 'basic',\n",
       "                                     z: 100,\n",
       "                                     runOptimization: true,\n",
       "                                     directed: true,\n",
       "                                     showSave: false});\n",
       "               $d.jgraph.draw({\n",
       "    \"edges\": [\n",
       "        { \"source\": \"code\", \"target\": \"societies\" }\n",
       "    ],\n",
       "    \"nodes\": {\n",
       "        \"code\": { \"location\": [ 0.4681580113410669, 0.43675921751406577, 0.39774563229166193 ] },\n",
       "        \"societies\": { \"location\": [ -0.4681580113410669, -0.43675921751406577, -0.39774563229166193 ] }\n",
       "    }\n",
       "});\n",
       "\n",
       "               $d.resizable({\n",
       "                   aspectRatio: 600 / 400,\n",
       "                   resize: function (evt, ui) {\n",
       "                       $d.jgraph.renderer.setSize(ui.size.width,\n",
       "                                                  ui.size.height);\n",
       "                   }\n",
       "               });\n",
       "           });\n",
       "           </script>"
      ],
      "text/plain": [
       "<IPython.core.display.HTML object>"
      ]
     },
     "metadata": {},
     "output_type": "display_data"
    }
   ],
   "source": [
    "\n",
    "jgraph.draw(edges)"
   ]
  },
  {
   "cell_type": "markdown",
   "metadata": {},
   "source": [
    "### Network Time\n"
   ]
  },
  {
   "cell_type": "code",
   "execution_count": 675,
   "metadata": {},
   "outputs": [],
   "source": [
    "all_nodes = []\n",
    "\n",
    "for e in edges:\n",
    "    # add the first node in the edge to all_nodes\n",
    "    all_nodes.append(e[0])\n",
    "    # add the second node in the edge to all_nodes\n",
    "    all_nodes.append(e[1])\n",
    "    \n",
    "# a 'set' is a data structure that can only contain unique elements --\n",
    "# so by converting to a set and back to a list, we get only a unique list of nodes.\n",
    "unique_nodes = list(set(all_nodes))\n",
    "\n",
    "\n",
    "#### here's a challenge: the single line below does the exact same thing as the lines of code above. can you see why?\n",
    "# unique_nodes = list(set([e for edge in edges for e in edge]))"
   ]
  },
  {
   "cell_type": "code",
   "execution_count": 676,
   "metadata": {},
   "outputs": [
    {
     "name": "stdout",
     "output_type": "stream",
     "text": [
      "{'code': ['societies'], 'societies': ['code']}\n"
     ]
    }
   ],
   "source": [
    "# let's create a graph! \n",
    "# let's define a graph as a dict, which stores things in a key-value structure\n",
    "# for dicts, keys are like names on mailboxes, values are like the content inside the mailbox\n",
    "# you can 'look up' data using the key, and get what's inside.\n",
    "# dicts are great way to structure information.\n",
    "\n",
    "graph = {}\n",
    "\n",
    "# iterate through edges\n",
    "\n",
    "for edge in edges:\n",
    "    \n",
    "    # for each edge, let's define 'node_from' and 'node_to' so that the code is easier for humans to read\n",
    "\n",
    "    node_from = edge[0]\n",
    "    node_to = edge[1]\n",
    "    \n",
    "    # if the node_from doesn't already exist in the 'graph' dict, \n",
    "    # let's insert node_from as a key, and have the value be an empty array\n",
    "\n",
    "    if(node_from not in graph):\n",
    "        graph[node_from] = []\n",
    "    \n",
    "    # in the array that exists in graph[node_from], add node_to\n",
    "\n",
    "    graph[node_from].append(node_to)\n",
    "    \n",
    "    # let's do it in the reverse, since we'll assume that the graph isn't directed\n",
    "    # which means that there's no directional relationship.\n",
    " \n",
    "    if(node_to not in graph):\n",
    "        graph[node_to] = []\n",
    "    graph[node_to].append(node_from)\n",
    "    \n",
    "# now you can see how the data is structured!\n",
    "# compare this against the data output from the CSV and see if you can tell what's going on intuitively.\n",
    "pprint(graph)"
   ]
  },
  {
   "cell_type": "code",
   "execution_count": 677,
   "metadata": {},
   "outputs": [
    {
     "name": "stdout",
     "output_type": "stream",
     "text": [
      "dict_keys(['code', 'societies'])\n"
     ]
    }
   ],
   "source": [
    "# let's see all the keys!\n",
    "# this happens to equal the list of 'unique_nodes'.. and that's not a coincidence\n",
    "print(graph.keys())\n"
   ]
  },
  {
   "cell_type": "code",
   "execution_count": 678,
   "metadata": {},
   "outputs": [
    {
     "name": "stdout",
     "output_type": "stream",
     "text": [
      "work exchange ==> \n",
      "code ==> \n",
      "societies ==> \n",
      "code ==> \n",
      "societies ==> \n",
      "code ==> \n"
     ]
    }
   ],
   "source": [
    "# choose a random node and hop skip randomly to what it's connected to\n",
    "\n",
    "# choose a random node!\n",
    "current_node = random.choice(list(graph.keys()))\n",
    "\n",
    "print (thisnode + \" ==> \")\n",
    "\n",
    "# do this five times\n",
    "for i in range(5):\n",
    "    \n",
    "    # find all the options we can go to in the graph from 'current_node'\n",
    "    to_options = graph[current_node]\n",
    "    # pick one of those randomly and set 'current_node' that node\n",
    "    current_node = random.choice(to_options)\n",
    "    \n",
    "    print (current_node + \" ==> \")\n",
    "    \n",
    "    \n",
    "# try running this repeatedly"
   ]
  },
  {
   "cell_type": "code",
   "execution_count": 679,
   "metadata": {},
   "outputs": [
    {
     "name": "stdout",
     "output_type": "stream",
     "text": [
      "['code', 'societies', 'code', 'societies', 'code']\n"
     ]
    }
   ],
   "source": [
    "# let's put this inside a function!\n",
    "\n",
    "def randomly_traverse_graph(graph, number_of_steps):\n",
    "\n",
    "    current_node = random.choice(list(graph.keys()))\n",
    "    \n",
    "    steps = []\n",
    "    steps.append(current_node)\n",
    "    \n",
    "    for i in range(number_of_steps - 1):\n",
    "        to_options = graph[current_node]\n",
    "        current_node = random.choice(to_options)\n",
    "        steps.append(current_node)\n",
    "        \n",
    "    return steps\n",
    "    \n",
    "    \n",
    "    \n",
    "print(randomly_traverse_graph(graph, 5))\n"
   ]
  },
  {
   "cell_type": "code",
   "execution_count": 680,
   "metadata": {},
   "outputs": [],
   "source": [
    "list_of_verbs = [\"affects\", \"changes\", \"alters\", \"relates to\", \"thinks about\",\"touches\",\"creates dreams about\",\"helps\",\"also is connected to\"]\n"
   ]
  },
  {
   "cell_type": "code",
   "execution_count": 681,
   "metadata": {},
   "outputs": [
    {
     "name": "stdout",
     "output_type": "stream",
     "text": [
      "code touches\n",
      "societies creates dreams about\n",
      "code relates to\n",
      "societies changes\n",
      "code creates dreams about\n"
     ]
    }
   ],
   "source": [
    "steps = randomly_traverse_graph(graph, 5)\n",
    "\n",
    "for s in steps:\n",
    "    random_verb = random.choice(list_of_verbs)\n",
    "    print(s + \" \" + random_verb)\n",
    "    "
   ]
  },
  {
   "cell_type": "code",
   "execution_count": 682,
   "metadata": {},
   "outputs": [
    {
     "name": "stdout",
     "output_type": "stream",
     "text": [
      "code helps societies; societies creates dreams about code; code helps societies; societies touches code.\n"
     ]
    }
   ],
   "source": [
    "poem = \"\"\n",
    "for i in range(len(steps) - 1):\n",
    "    step = steps[i]\n",
    "    next_step = steps[i + 1]\n",
    "    poem += step + \" \" + random.choice(list_of_verbs) + \" \" + next_step\n",
    "    \n",
    "    if(i == len(steps) - 2):\n",
    "        poem += \".\"\n",
    "    else:\n",
    "        poem += \"; \"    \n",
    "\n",
    "\n",
    "print(poem)"
   ]
  },
  {
   "cell_type": "code",
   "execution_count": 683,
   "metadata": {},
   "outputs": [],
   "source": [
    "from tracery.modifiers import base_english\n"
   ]
  },
  {
   "cell_type": "code",
   "execution_count": 684,
   "metadata": {},
   "outputs": [
    {
     "name": "stdout",
     "output_type": "stream",
     "text": [
      "the moon suddenly helps the sun\n"
     ]
    }
   ],
   "source": [
    "def generate_simple_line(node_from, node_to):\n",
    "    grammarSource = {\n",
    "        \"node_from\": node_from,\n",
    "        \"node_to\": node_to,\n",
    "        \"adverb\": \"suddenly|silently|happily|surprisingly|calmly|beautifully\".split(\"|\"),\n",
    "        \"verb\":  [\"affects\", \"dances around\", \"changes\", \"alters\", \"relates to\", \"thinks about\",\"touches\",\"creates dreams about\",\"helps\",\"also is connected to\"],\n",
    "        \"poem\": \"#node_from# #adverb# #verb# #node_to#\"\n",
    "    }\n",
    "    grammar = tracery.Grammar(grammarSource)\n",
    "    return grammar.flatten(\"#poem#\")\n",
    "    \n",
    "print(generate_simple_line(\"the moon\", \"the sun\"))\n"
   ]
  },
  {
   "cell_type": "code",
   "execution_count": 685,
   "metadata": {},
   "outputs": [
    {
     "name": "stdout",
     "output_type": "stream",
     "text": [
      "trembling, moon simply chats from sun.\n"
     ]
    }
   ],
   "source": [
    "def generate_poem_line(node_from, node_to):\n",
    "    grammarSource = {\n",
    "        \"node_from\": node_from,\n",
    "        \"node_to\": node_to,\n",
    "        \"wonderadj\": \"quiet|solemn|contemplative|still|tender|harmonious\".split(\"|\"),\n",
    "        \"tensionadj\": \"trembling|buzzing|vibrating|swirling\".split(\"|\"),\n",
    "        \"adj\": \"#wonderadj#,|#tensionadj#,\".split(\"|\"),\n",
    "        \"name\": \"fire|bother|wonder|winter\".split(\"|\"),\n",
    "        \"earlylate\": \"early |late |mid-\".split(\"|\"),\n",
    "        \"season\": \"autumn|summer|fall|winter\".split(\"|\"),\n",
    "        \"seasonornot\": \"|in #earlylate##season#, \".split(\"|\"),\n",
    "        \"adverbornot\": \"|#adverb#\".split(\"|\"),\n",
    "        \"adverb\": \"briskly|tartly|simply|harshly|fuzzily|freely|ably|copiously|furtively|endlessly|sarcastically|generatively|slowly|distinctly\".split(\"|\"),\n",
    "        \"verbs\": \"dances|thinks|touches|dreams|hesitates|loves|feels|wanders|does|sits|reads|looks|runs|asks|collapses|chats|donates\".split(\"|\"),\n",
    "        \"preposition\": \"around|about|with|of|to|from\".split(\"|\"),\n",
    "        \"lineending\": ['',',',';','--','.'],\n",
    "        \"poemline1\": \"#adj# #node_from# #adverb# #verbs# #preposition# #node_to##lineending#\",\n",
    "        \"poemline2\": \"#seasonornot##node_from# and #node_to# #adverb# #verbs##lineending#\",\n",
    "        \"poem\": \"#poemline1#|#poemline2#\".split(\"|\")\n",
    "    }\n",
    "    grammar = tracery.Grammar(grammarSource)\n",
    "    return grammar.flatten(\"#poem#\")\n",
    "    \n",
    "print(generate_poem_line(\"moon\", \"sun\"))\n"
   ]
  },
  {
   "cell_type": "code",
   "execution_count": 686,
   "metadata": {},
   "outputs": [
    {
     "name": "stdout",
     "output_type": "stream",
     "text": [
      "in early fall, code and societies briskly thinks;\n",
      "buzzing, societies fuzzily donates about code--\n",
      "vibrating, code copiously looks about societies\n",
      "harmonious, societies distinctly loves to code--\n",
      "swirling, code fuzzily dreams about societies.\n",
      "harmonious, societies slowly does with code.\n",
      "trembling, code copiously collapses of societies\n",
      "societies and code tartly dreams;\n",
      "code and societies freely donates;\n",
      "\n"
     ]
    }
   ],
   "source": [
    "steps = randomly_traverse_graph(graph, 10)\n",
    "\n",
    "poem = \"\"\n",
    "for i in range(len(steps) - 1):\n",
    "    step = steps[i]\n",
    "    next_step = steps[i + 1]\n",
    "    poem += generate_poem_line(step, next_step) + \"\\n\"\n",
    "\n",
    "print(poem)"
   ]
  },
  {
   "cell_type": "code",
   "execution_count": null,
   "metadata": {},
   "outputs": [],
   "source": []
  },
  {
   "cell_type": "code",
   "execution_count": null,
   "metadata": {},
   "outputs": [],
   "source": []
  },
  {
   "cell_type": "code",
   "execution_count": null,
   "metadata": {},
   "outputs": [],
   "source": []
  }
 ],
 "metadata": {
  "kernelspec": {
   "display_name": "Python 3",
   "language": "python",
   "name": "python3"
  },
  "language_info": {
   "codemirror_mode": {
    "name": "ipython",
    "version": 3
   },
   "file_extension": ".py",
   "mimetype": "text/x-python",
   "name": "python",
   "nbconvert_exporter": "python",
   "pygments_lexer": "ipython3",
   "version": "3.6.5"
  }
 },
 "nbformat": 4,
 "nbformat_minor": 2
}

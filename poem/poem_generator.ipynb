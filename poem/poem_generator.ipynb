{
 "cells": [
  {
   "cell_type": "markdown",
   "metadata": {},
   "source": [
    "# Network Poet\n",
    "\n",
    "This is a example of using python to download data from Google Sheets, turn it into a network graph, and to create poetry by traversing / wandering around on the graph!\n",
    "\n"
   ]
  },
  {
   "cell_type": "code",
   "execution_count": 57,
   "metadata": {},
   "outputs": [
    {
     "name": "stdout",
     "output_type": "stream",
     "text": [
      "Requirement already satisfied: requests in /Users/provolot/.pyenv/versions/3.6.5/lib/python3.6/site-packages (2.18.4)\n",
      "Requirement already satisfied: jgraph in /Users/provolot/.pyenv/versions/3.6.5/lib/python3.6/site-packages (0.2.1)\n",
      "Requirement already satisfied: tracery in /Users/provolot/.pyenv/versions/3.6.5/lib/python3.6/site-packages (0.1.1)\n",
      "Requirement already satisfied: urllib3<1.23,>=1.21.1 in /Users/provolot/.pyenv/versions/3.6.5/lib/python3.6/site-packages (from requests) (1.22)\n",
      "Requirement already satisfied: certifi>=2017.4.17 in /Users/provolot/.pyenv/versions/3.6.5/lib/python3.6/site-packages (from requests) (2017.7.27.1)\n",
      "Requirement already satisfied: idna<2.7,>=2.5 in /Users/provolot/.pyenv/versions/3.6.5/lib/python3.6/site-packages (from requests) (2.6)\n",
      "Requirement already satisfied: chardet<3.1.0,>=3.0.2 in /Users/provolot/.pyenv/versions/3.6.5/lib/python3.6/site-packages (from requests) (3.0.4)\n",
      "Requirement already satisfied: ipython in /Users/provolot/.pyenv/versions/3.6.5/lib/python3.6/site-packages (from jgraph) (6.4.0)\n",
      "Requirement already satisfied: appnope; sys_platform == \"darwin\" in /Users/provolot/.pyenv/versions/3.6.5/lib/python3.6/site-packages (from ipython->jgraph) (0.1.0)\n",
      "Requirement already satisfied: jedi>=0.10 in /Users/provolot/.pyenv/versions/3.6.5/lib/python3.6/site-packages (from ipython->jgraph) (0.12.1)\n",
      "Requirement already satisfied: pickleshare in /Users/provolot/.pyenv/versions/3.6.5/lib/python3.6/site-packages (from ipython->jgraph) (0.7.4)\n",
      "Requirement already satisfied: simplegeneric>0.8 in /Users/provolot/.pyenv/versions/3.6.5/lib/python3.6/site-packages (from ipython->jgraph) (0.8.1)\n",
      "Requirement already satisfied: decorator in /Users/provolot/.pyenv/versions/3.6.5/lib/python3.6/site-packages (from ipython->jgraph) (4.1.2)\n",
      "Requirement already satisfied: pygments in /Users/provolot/.pyenv/versions/3.6.5/lib/python3.6/site-packages (from ipython->jgraph) (2.2.0)\n",
      "Requirement already satisfied: setuptools>=18.5 in /Users/provolot/.pyenv/versions/3.6.5/lib/python3.6/site-packages (from ipython->jgraph) (39.0.1)\n",
      "Requirement already satisfied: traitlets>=4.2 in /Users/provolot/.pyenv/versions/3.6.5/lib/python3.6/site-packages (from ipython->jgraph) (4.3.2)\n",
      "Requirement already satisfied: pexpect; sys_platform != \"win32\" in /Users/provolot/.pyenv/versions/3.6.5/lib/python3.6/site-packages (from ipython->jgraph) (4.6.0)\n",
      "Requirement already satisfied: prompt-toolkit<2.0.0,>=1.0.15 in /Users/provolot/.pyenv/versions/3.6.5/lib/python3.6/site-packages (from ipython->jgraph) (1.0.15)\n",
      "Requirement already satisfied: backcall in /Users/provolot/.pyenv/versions/3.6.5/lib/python3.6/site-packages (from ipython->jgraph) (0.1.0)\n",
      "Requirement already satisfied: parso>=0.3.0 in /Users/provolot/.pyenv/versions/3.6.5/lib/python3.6/site-packages (from jedi>=0.10->ipython->jgraph) (0.3.1)\n",
      "Requirement already satisfied: ipython-genutils in /Users/provolot/.pyenv/versions/3.6.5/lib/python3.6/site-packages (from traitlets>=4.2->ipython->jgraph) (0.2.0)\n",
      "Requirement already satisfied: six in /Users/provolot/.pyenv/versions/3.6.5/lib/python3.6/site-packages (from traitlets>=4.2->ipython->jgraph) (1.11.0)\n",
      "Requirement already satisfied: ptyprocess>=0.5 in /Users/provolot/.pyenv/versions/3.6.5/lib/python3.6/site-packages (from pexpect; sys_platform != \"win32\"->ipython->jgraph) (0.6.0)\n",
      "Requirement already satisfied: wcwidth in /Users/provolot/.pyenv/versions/3.6.5/lib/python3.6/site-packages (from prompt-toolkit<2.0.0,>=1.0.15->ipython->jgraph) (0.1.7)\n"
     ]
    }
   ],
   "source": [
    "# Uncomment the line below to run it once, so that you install the necessary libraries.\n",
    "# Then comment it again since you only have to run it once.\n",
    "\n",
    "!pip install requests jgraph tracery"
   ]
  },
  {
   "cell_type": "code",
   "execution_count": 58,
   "metadata": {},
   "outputs": [],
   "source": [
    "import requests\n",
    "# this downloads/requests stuff from the internet \n",
    "\n",
    "import csv\n",
    "# this helps you parse csv\n",
    "\n",
    "import re\n",
    "# this uses regular expressions, or regex, a way to search grab chunks of text from a string\n",
    "\n",
    "from pprint import pprint\n",
    "# this helps us 'pretty print' data -- 'pretty print' is a term that means nicely formatting & outputting data\n",
    "\n",
    "import random\n",
    "# this helps us choose items from a list randomly, or to create random numbers, etc\n",
    "\n",
    "import jgraph\n",
    "# this helps us visualize the graph!\n",
    "\n",
    "import tracery\n",
    "# this is a library for generative text\n",
    "# made by none other than Allison Parrish!"
   ]
  },
  {
   "cell_type": "markdown",
   "metadata": {},
   "source": [
    "## Downloading data\n",
    "\n",
    "How do we get the data?\n",
    "We're going to use a semi-hidden function in Google Sheets - if you go to a specially formatted URL, then Google Sheets will return the data CSV (comma separated value) of the spreadsheet.\n",
    "\n",
    "### Let's get ready to download things by generating a URL.."
   ]
  },
  {
   "cell_type": "code",
   "execution_count": 59,
   "metadata": {},
   "outputs": [],
   "source": [
    "# You can replace `gsheet_url` with a link to a publicly viable Google Sheet\n",
    "\n",
    "gsheet_url = \"https://docs.google.com/spreadsheets/d/1RzZ8jivpLRQtFnCD39Rp3kzCRr_JnpyBkOAzLpVRIMw/edit#gid=443195507\""
   ]
  },
  {
   "cell_type": "markdown",
   "metadata": {},
   "source": [
    "This cell uses RegEx, or regular expressions, to do an advanced search and extract the document ID and sheet ID from `gsheet_url`. \n",
    "\n",
    "Regular expressions are incredibly helpful, and can also be a bit cryptic (for everyone), so for right now, you don't have to understand exactly how `getDocIdFromUrl` and `getSheetIdFromUrl` work."
   ]
  },
  {
   "cell_type": "code",
   "execution_count": 60,
   "metadata": {},
   "outputs": [
    {
     "name": "stdout",
     "output_type": "stream",
     "text": [
      "https://docs.google.com/spreadsheets/d/1RzZ8jivpLRQtFnCD39Rp3kzCRr_JnpyBkOAzLpVRIMw/export?gid=443195507&format=csv\n"
     ]
    }
   ],
   "source": [
    "# define functions that extract the doc ID / sheet ID from gsheet_url\n",
    "def getDocIdFromUrl(url):\n",
    "    return re.search(\"([-\\w]{25,})\", url).group(1)\n",
    "def getSheetIdFromUrl(url):\n",
    "    return re.search(\"gid=([-\\w]+)\", url).group(1)\n",
    "\n",
    "\n",
    "# craft the URL that gives us a CSV\n",
    "gsheet_csv_url = \"https://docs.google.com/spreadsheets/d/\" + getDocIdFromUrl(gsheet_url) + \"/export?gid=\" + getSheetIdFromUrl(gsheet_url) + \"&format=csv\"\n",
    "\n",
    "\n",
    "# if you're curious, try going to this url in your browser! It will automatically download a CSV file\n",
    "print(gsheet_csv_url)"
   ]
  },
  {
   "cell_type": "markdown",
   "metadata": {},
   "source": [
    "### Now we download the data! \n"
   ]
  },
  {
   "cell_type": "code",
   "execution_count": 61,
   "metadata": {},
   "outputs": [
    {
     "name": "stdout",
     "output_type": "stream",
     "text": [
      "[['strangers', 'friends'], ['S4AD', 'BBQ'], ['BBQ', 'Bar'], ['software', 'ideology'], ['kindess', 'explanation'], ['classmate', 'train riding pair'], ['Bar', 'Dance Party'], ['listening', 'hunger'], ['Courtyard', 'Breeze '], ['hunger', 'snacks'], ['S4AD', 'picnics'], ['snacks', 'spreadsheet'], ['friends', 'bar'], ['courtyard', 'laughter'], ['nervousness', 'laughter'], ['snacks', 'community'], ['home', 'friends'], ['spreadsheet', 'schedule'], ['laughter', 'relationality '], ['snacks', 'knowledge'], ['Dance Party', 'Lorimer'], ['spreadsheet', 'spreadsheet'], ['spreadsheet', 'reality'], ['slack', 'schedule'], ['spreadsheet', 'data'], ['courtyard', 'classroom'], ['strangers', 'less strange'], ['spreadsheet', 'abstract thinking'], ['dance party', 'hangover'], ['big group', 'small group'], ['data', 'forgetting'], ['final project', 'project'], ['classroom', 'pool'], ['food', 'sharing'], ['laughter', 'flirts'], ['data', 'python coding'], ['hot summer', 'brizy night'], ['looking', 'listening'], ['sharing', 'knowledge'], ['schedule', 'readings'], ['data', 'poetry'], ['python coding', 'slack'], ['listening', 'talking'], ['readings', 'pdf'], ['code', 'poetry'], ['knowledge', 'practice'], ['talking ', 'asking'], ['slack', 'collaboration'], ['sharing', 'caring'], ['poetry', 'talking'], ['poetry', 'loops'], ['after class', 'Q&As'], ['aesthetics', 'instagram'], ['friday', 'dance party'], ['spreadsheet', 'google forms'], ['talking', 'awkward silence embracing'], ['coding', 'loops'], ['instagram', '<3'], ['aesthetics', 'ideology'], ['one text', 'multiple texts'], ['listening', 'care'], ['courtyard', 'collaboration'], ['community', 'collaboration'], ['ideology', 'zizek'], ['collaboration', 'community'], ['awkward silence embracing', 'care'], ['courtyard', 'smoking'], ['community', 'networks'], ['zizek', 'abercombie & fitch'], ['zizek', 'abercrombie & fitch'], ['courtyard', 'conversations'], ['analog freedom', 'digital control'], ['anxiety', 'distractions'], ['new friends', 'instagram'], ['drawing', 'coding'], ['sharing', 'vulnerability'], ['smoking', 'sore throat'], ['courtyard', 'breezes'], ['new friends', 'picnic'], ['confusion', 'python'], ['coding', 'drawing'], ['vulnerability', 'strength'], ['ideology', 'interface'], ['imagination', 'alternatives'], ['GUI', 'gooey'], ['mistakes', 'imagination'], ['library', 'network '], ['python', 'GUI'], ['learning', 'mistakes'], ['imagination', 'laughs'], ['evening', 'hunger'], ['home', 'home'], ['mistakes', 'ideas'], ['python', 'jupyter'], ['laughs', 'friendships'], ['slack', 'project'], ['interface', 'devices'], ['mistakes', 'laughs'], ['hunger', 'sweet'], ['devices', 'rituals'], ['interface', 'future'], ['spreadsheet', 'laughs'], ['rituals', 'home'], ['Slack', 'In the DMs'], ['chair', 'couch'], ['rituals', 'future'], ['the matrix', 'EVERYTHING'], ['future', 'possibilities']]\n"
     ]
    }
   ],
   "source": [
    "# get response from URL\n",
    "response = requests.get(gsheet_csv_url)\n",
    "\n",
    "\n",
    "# make sure it's read/decoded with the right text encoding!\n",
    "decoded_content = response.content.decode('utf-8')\n",
    "\n",
    "\n",
    "# using the CSV library, parse the data! \n",
    "# Split the content on each 'newline', then make sure we use a comma as a delimiter to understand the difference between cells.\n",
    "# also - ignore the first line, because it's the header info for the csv\n",
    "edges = list(csv.reader(decoded_content.splitlines()[1:], delimiter=','))\n",
    "\n",
    "\n",
    "print(edges)"
   ]
  },
  {
   "cell_type": "markdown",
   "metadata": {},
   "source": [
    "Optionally, if you want to open a local CSV file on your computer instead, you can use the code in this comment! Just make sure that `sheet.csv` is in the same directory as this Jupyter notebook file."
   ]
  },
  {
   "cell_type": "code",
   "execution_count": 62,
   "metadata": {},
   "outputs": [],
   "source": [
    "#with open(\"sheet.csv\", \"r\") as f:\n",
    "#    reader = csv.reader(f)\n",
    "#    edges = list(reader)\n",
    "#print(edges)"
   ]
  },
  {
   "cell_type": "markdown",
   "metadata": {},
   "source": [
    "### Let's quickly visualize the data\n",
    "\n",
    "Jgraph is a library designed to visualize network graphs in 3D. It doesn't show labels, but you can get a general, visual/spatial sense of what the network _feels_ like."
   ]
  },
  {
   "cell_type": "code",
   "execution_count": 63,
   "metadata": {
    "scrolled": false
   },
   "outputs": [
    {
     "data": {
      "text/html": [
       "<div id=\"graph-8ac148bf-e807-44d5-b17c-730e92b5f810\"></div>\n",
       "           <script type=\"text/javascript\">\n",
       "           require.config({baseUrl: '/',\n",
       "                             paths: {jgraph: ['nbextensions/jgraph.min', 'https://rawgit.com/patrickfuller/jgraph/master/js/build/jgraph.min']}});\n",
       "           require(['jgraph'], function () {\n",
       "               var $d = $('#graph-8ac148bf-e807-44d5-b17c-730e92b5f810');\n",
       "               $d.width(600); $d.height(400);\n",
       "               $d.jgraph = jQuery.extend({}, jgraph);\n",
       "               $d.jgraph.create($d, {nodeSize: 2.000000,\n",
       "                                     edgeSize: 0.250000,\n",
       "                                     defaultNodeColor: '0x5bc0de',\n",
       "                                     defaultEdgeColor: '0xaaaaaa',\n",
       "                                     shader: 'basic',\n",
       "                                     z: 100,\n",
       "                                     runOptimization: true,\n",
       "                                     directed: true,\n",
       "                                     showSave: false});\n",
       "               $d.jgraph.draw({\n",
       "    \"edges\": [\n",
       "        { \"source\": \"strangers\", \"target\": \"friends\" },\n",
       "        { \"source\": \"S4AD\", \"target\": \"BBQ\" },\n",
       "        { \"source\": \"BBQ\", \"target\": \"Bar\" },\n",
       "        { \"source\": \"software\", \"target\": \"ideology\" },\n",
       "        { \"source\": \"kindess\", \"target\": \"explanation\" },\n",
       "        { \"source\": \"classmate\", \"target\": \"train riding pair\" },\n",
       "        { \"source\": \"Bar\", \"target\": \"Dance Party\" },\n",
       "        { \"source\": \"listening\", \"target\": \"hunger\" },\n",
       "        { \"source\": \"Courtyard\", \"target\": \"Breeze \" },\n",
       "        { \"source\": \"hunger\", \"target\": \"snacks\" },\n",
       "        { \"source\": \"S4AD\", \"target\": \"picnics\" },\n",
       "        { \"source\": \"snacks\", \"target\": \"spreadsheet\" },\n",
       "        { \"source\": \"friends\", \"target\": \"bar\" },\n",
       "        { \"source\": \"courtyard\", \"target\": \"laughter\" },\n",
       "        { \"source\": \"nervousness\", \"target\": \"laughter\" },\n",
       "        { \"source\": \"snacks\", \"target\": \"community\" },\n",
       "        { \"source\": \"home\", \"target\": \"friends\" },\n",
       "        { \"source\": \"spreadsheet\", \"target\": \"schedule\" },\n",
       "        { \"source\": \"laughter\", \"target\": \"relationality \" },\n",
       "        { \"source\": \"snacks\", \"target\": \"knowledge\" },\n",
       "        { \"source\": \"Dance Party\", \"target\": \"Lorimer\" },\n",
       "        { \"source\": \"spreadsheet\", \"target\": \"spreadsheet\" },\n",
       "        { \"source\": \"spreadsheet\", \"target\": \"reality\" },\n",
       "        { \"source\": \"slack\", \"target\": \"schedule\" },\n",
       "        { \"source\": \"spreadsheet\", \"target\": \"data\" },\n",
       "        { \"source\": \"courtyard\", \"target\": \"classroom\" },\n",
       "        { \"source\": \"strangers\", \"target\": \"less strange\" },\n",
       "        { \"source\": \"spreadsheet\", \"target\": \"abstract thinking\" },\n",
       "        { \"source\": \"dance party\", \"target\": \"hangover\" },\n",
       "        { \"source\": \"big group\", \"target\": \"small group\" },\n",
       "        { \"source\": \"data\", \"target\": \"forgetting\" },\n",
       "        { \"source\": \"final project\", \"target\": \"project\" },\n",
       "        { \"source\": \"classroom\", \"target\": \"pool\" },\n",
       "        { \"source\": \"food\", \"target\": \"sharing\" },\n",
       "        { \"source\": \"laughter\", \"target\": \"flirts\" },\n",
       "        { \"source\": \"data\", \"target\": \"python coding\" },\n",
       "        { \"source\": \"hot summer\", \"target\": \"brizy night\" },\n",
       "        { \"source\": \"looking\", \"target\": \"listening\" },\n",
       "        { \"source\": \"sharing\", \"target\": \"knowledge\" },\n",
       "        { \"source\": \"schedule\", \"target\": \"readings\" },\n",
       "        { \"source\": \"data\", \"target\": \"poetry\" },\n",
       "        { \"source\": \"python coding\", \"target\": \"slack\" },\n",
       "        { \"source\": \"listening\", \"target\": \"talking\" },\n",
       "        { \"source\": \"readings\", \"target\": \"pdf\" },\n",
       "        { \"source\": \"code\", \"target\": \"poetry\" },\n",
       "        { \"source\": \"knowledge\", \"target\": \"practice\" },\n",
       "        { \"source\": \"talking \", \"target\": \"asking\" },\n",
       "        { \"source\": \"slack\", \"target\": \"collaboration\" },\n",
       "        { \"source\": \"sharing\", \"target\": \"caring\" },\n",
       "        { \"source\": \"poetry\", \"target\": \"talking\" },\n",
       "        { \"source\": \"poetry\", \"target\": \"loops\" },\n",
       "        { \"source\": \"after class\", \"target\": \"Q&As\" },\n",
       "        { \"source\": \"aesthetics\", \"target\": \"instagram\" },\n",
       "        { \"source\": \"friday\", \"target\": \"dance party\" },\n",
       "        { \"source\": \"spreadsheet\", \"target\": \"google forms\" },\n",
       "        { \"source\": \"talking\", \"target\": \"awkward silence embracing\" },\n",
       "        { \"source\": \"coding\", \"target\": \"loops\" },\n",
       "        { \"source\": \"instagram\", \"target\": \"<3\" },\n",
       "        { \"source\": \"aesthetics\", \"target\": \"ideology\" },\n",
       "        { \"source\": \"one text\", \"target\": \"multiple texts\" },\n",
       "        { \"source\": \"listening\", \"target\": \"care\" },\n",
       "        { \"source\": \"courtyard\", \"target\": \"collaboration\" },\n",
       "        { \"source\": \"community\", \"target\": \"collaboration\" },\n",
       "        { \"source\": \"ideology\", \"target\": \"zizek\" },\n",
       "        { \"source\": \"collaboration\", \"target\": \"community\" },\n",
       "        { \"source\": \"awkward silence embracing\", \"target\": \"care\" },\n",
       "        { \"source\": \"courtyard\", \"target\": \"smoking\" },\n",
       "        { \"source\": \"community\", \"target\": \"networks\" },\n",
       "        { \"source\": \"zizek\", \"target\": \"abercombie & fitch\" },\n",
       "        { \"source\": \"zizek\", \"target\": \"abercrombie & fitch\" },\n",
       "        { \"source\": \"courtyard\", \"target\": \"conversations\" },\n",
       "        { \"source\": \"analog freedom\", \"target\": \"digital control\" },\n",
       "        { \"source\": \"anxiety\", \"target\": \"distractions\" },\n",
       "        { \"source\": \"new friends\", \"target\": \"instagram\" },\n",
       "        { \"source\": \"drawing\", \"target\": \"coding\" },\n",
       "        { \"source\": \"sharing\", \"target\": \"vulnerability\" },\n",
       "        { \"source\": \"smoking\", \"target\": \"sore throat\" },\n",
       "        { \"source\": \"courtyard\", \"target\": \"breezes\" },\n",
       "        { \"source\": \"new friends\", \"target\": \"picnic\" },\n",
       "        { \"source\": \"confusion\", \"target\": \"python\" },\n",
       "        { \"source\": \"coding\", \"target\": \"drawing\" },\n",
       "        { \"source\": \"vulnerability\", \"target\": \"strength\" },\n",
       "        { \"source\": \"ideology\", \"target\": \"interface\" },\n",
       "        { \"source\": \"imagination\", \"target\": \"alternatives\" },\n",
       "        { \"source\": \"GUI\", \"target\": \"gooey\" },\n",
       "        { \"source\": \"mistakes\", \"target\": \"imagination\" },\n",
       "        { \"source\": \"library\", \"target\": \"network \" },\n",
       "        { \"source\": \"python\", \"target\": \"GUI\" },\n",
       "        { \"source\": \"learning\", \"target\": \"mistakes\" },\n",
       "        { \"source\": \"imagination\", \"target\": \"laughs\" },\n",
       "        { \"source\": \"evening\", \"target\": \"hunger\" },\n",
       "        { \"source\": \"home\", \"target\": \"home\" },\n",
       "        { \"source\": \"mistakes\", \"target\": \"ideas\" },\n",
       "        { \"source\": \"python\", \"target\": \"jupyter\" },\n",
       "        { \"source\": \"laughs\", \"target\": \"friendships\" },\n",
       "        { \"source\": \"slack\", \"target\": \"project\" },\n",
       "        { \"source\": \"interface\", \"target\": \"devices\" },\n",
       "        { \"source\": \"mistakes\", \"target\": \"laughs\" },\n",
       "        { \"source\": \"hunger\", \"target\": \"sweet\" },\n",
       "        { \"source\": \"devices\", \"target\": \"rituals\" },\n",
       "        { \"source\": \"interface\", \"target\": \"future\" },\n",
       "        { \"source\": \"spreadsheet\", \"target\": \"laughs\" },\n",
       "        { \"source\": \"rituals\", \"target\": \"home\" },\n",
       "        { \"source\": \"Slack\", \"target\": \"In the DMs\" },\n",
       "        { \"source\": \"chair\", \"target\": \"couch\" },\n",
       "        { \"source\": \"rituals\", \"target\": \"future\" },\n",
       "        { \"source\": \"the matrix\", \"target\": \"EVERYTHING\" },\n",
       "        { \"source\": \"future\", \"target\": \"possibilities\" }\n",
       "    ],\n",
       "    \"nodes\": {\n",
       "        \"<3\": { \"location\": [ -2.0, -2.0, -2.0 ] },\n",
       "        \"BBQ\": { \"location\": [ 2.0, 2.0, 2.0 ] },\n",
       "        \"Bar\": { \"location\": [ 2.0, 2.0, 2.0 ] },\n",
       "        \"Breeze \": { \"location\": [ -2.0, -2.0, -2.0 ] },\n",
       "        \"Courtyard\": { \"location\": [ -2.0, -2.0, -2.0 ] },\n",
       "        \"Dance Party\": { \"location\": [ 2.0, 2.0, 2.0 ] },\n",
       "        \"EVERYTHING\": { \"location\": [ 2.0, 0.15819439561725368, 2.0 ] },\n",
       "        \"GUI\": { \"location\": [ 2.0, 2.0, 2.0 ] },\n",
       "        \"In the DMs\": { \"location\": [ -2.0, -2.0, -2.0 ] },\n",
       "        \"Lorimer\": { \"location\": [ -2.0, -2.0, -2.0 ] },\n",
       "        \"Q&As\": { \"location\": [ 2.0, 2.0, 2.0 ] },\n",
       "        \"S4AD\": { \"location\": [ -2.0, -2.0, -2.0 ] },\n",
       "        \"Slack\": { \"location\": [ 2.0, 2.0, 2.0 ] },\n",
       "        \"abercombie & fitch\": { \"location\": [ 2.0, 2.0, 2.0 ] },\n",
       "        \"abercrombie & fitch\": { \"location\": [ -2.0, -2.0, -2.0 ] },\n",
       "        \"abstract thinking\": { \"location\": [ 2.0, 2.0, 2.0 ] },\n",
       "        \"aesthetics\": { \"location\": [ -2.0, -2.0, -2.0 ] },\n",
       "        \"after class\": { \"location\": [ 2.0, 2.0, 2.0 ] },\n",
       "        \"alternatives\": { \"location\": [ -2.0, -2.0, -2.0 ] },\n",
       "        \"analog freedom\": { \"location\": [ -0.31830686475759523, -1.6476491553936523, 1.8173721526229532 ] },\n",
       "        \"anxiety\": { \"location\": [ -2.0, -2.0, -2.0 ] },\n",
       "        \"asking\": { \"location\": [ 2.0, 2.0, 2.0 ] },\n",
       "        \"awkward silence embracing\": { \"location\": [ -2.0, -2.0, -2.0 ] },\n",
       "        \"bar\": { \"location\": [ -2.0, -2.0, -2.0 ] },\n",
       "        \"big group\": { \"location\": [ 2.0, 2.0, 2.0 ] },\n",
       "        \"breezes\": { \"location\": [ 2.0, 2.0, 2.0 ] },\n",
       "        \"brizy night\": { \"location\": [ 2.0, 2.0, 2.0 ] },\n",
       "        \"care\": { \"location\": [ -2.0, -2.0, -2.0 ] },\n",
       "        \"caring\": { \"location\": [ -2.0, -2.0, -2.0 ] },\n",
       "        \"chair\": { \"location\": [ -2.0, -2.0, -2.0 ] },\n",
       "        \"classmate\": { \"location\": [ -2.0, -2.0, -2.0 ] },\n",
       "        \"classroom\": { \"location\": [ 2.0, 2.0, 2.0 ] },\n",
       "        \"code\": { \"location\": [ 2.0, 2.0, 2.0 ] },\n",
       "        \"coding\": { \"location\": [ 2.0, 2.0, 2.0 ] },\n",
       "        \"collaboration\": { \"location\": [ -2.0, -2.0, -2.0 ] },\n",
       "        \"community\": { \"location\": [ -2.0, -2.0, -2.0 ] },\n",
       "        \"confusion\": { \"location\": [ -2.0, -2.0, -2.0 ] },\n",
       "        \"conversations\": { \"location\": [ 2.0, 2.0, 2.0 ] },\n",
       "        \"couch\": { \"location\": [ 2.0, 2.0, 2.0 ] },\n",
       "        \"courtyard\": { \"location\": [ 2.0, 2.0, 2.0 ] },\n",
       "        \"dance party\": { \"location\": [ 2.0, 2.0, 2.0 ] },\n",
       "        \"data\": { \"location\": [ -2.0, -2.0, -2.0 ] },\n",
       "        \"devices\": { \"location\": [ -2.0, -2.0, -2.0 ] },\n",
       "        \"digital control\": { \"location\": [ -2.0, -2.0, -2.0 ] },\n",
       "        \"distractions\": { \"location\": [ 2.0, 2.0, 2.0 ] },\n",
       "        \"drawing\": { \"location\": [ -2.0, -2.0, -2.0 ] },\n",
       "        \"evening\": { \"location\": [ 2.0, 2.0, 2.0 ] },\n",
       "        \"explanation\": { \"location\": [ -2.0, -2.0, -2.0 ] },\n",
       "        \"final project\": { \"location\": [ -2.0, -2.0, -2.0 ] },\n",
       "        \"flirts\": { \"location\": [ 2.0, 2.0, 2.0 ] },\n",
       "        \"food\": { \"location\": [ -2.0, -2.0, -2.0 ] },\n",
       "        \"forgetting\": { \"location\": [ -2.0, -2.0, -2.0 ] },\n",
       "        \"friday\": { \"location\": [ -2.0, -2.0, -2.0 ] },\n",
       "        \"friends\": { \"location\": [ 2.0, 2.0, 2.0 ] },\n",
       "        \"friendships\": { \"location\": [ -2.0, -2.0, -2.0 ] },\n",
       "        \"future\": { \"location\": [ 2.0, 2.0, 2.0 ] },\n",
       "        \"gooey\": { \"location\": [ 2.0, 2.0, 2.0 ] },\n",
       "        \"google forms\": { \"location\": [ -2.0, -2.0, -2.0 ] },\n",
       "        \"hangover\": { \"location\": [ -2.0, -2.0, -2.0 ] },\n",
       "        \"home\": { \"location\": [ -2.0, -2.0, -2.0 ] },\n",
       "        \"hot summer\": { \"location\": [ -2.0, -2.0, -2.0 ] },\n",
       "        \"hunger\": { \"location\": [ 2.0, 2.0, 2.0 ] },\n",
       "        \"ideas\": { \"location\": [ 2.0, 2.0, 2.0 ] },\n",
       "        \"ideology\": { \"location\": [ -2.0, -2.0, -2.0 ] },\n",
       "        \"imagination\": { \"location\": [ -2.0, -2.0, -1.302709872433885 ] },\n",
       "        \"instagram\": { \"location\": [ -2.0, -2.0, -2.0 ] },\n",
       "        \"interface\": { \"location\": [ 2.0, 2.0, 2.0 ] },\n",
       "        \"jupyter\": { \"location\": [ 2.0, 2.0, 2.0 ] },\n",
       "        \"kindess\": { \"location\": [ 2.0, 2.0, 2.0 ] },\n",
       "        \"knowledge\": { \"location\": [ -2.0, -2.0, -2.0 ] },\n",
       "        \"laughs\": { \"location\": [ 2.0, 2.0, 2.0 ] },\n",
       "        \"laughter\": { \"location\": [ -2.0, -2.0, -2.0 ] },\n",
       "        \"learning\": { \"location\": [ -2.0, -2.0, -2.0 ] },\n",
       "        \"less strange\": { \"location\": [ -2.0, -2.0, -2.0 ] },\n",
       "        \"library\": { \"location\": [ 2.0, 2.0, 2.0 ] },\n",
       "        \"listening\": { \"location\": [ -2.0, -2.0, -2.0 ] },\n",
       "        \"looking\": { \"location\": [ 2.0, 2.0, 2.0 ] },\n",
       "        \"loops\": { \"location\": [ 2.0, 2.0, 2.0 ] },\n",
       "        \"mistakes\": { \"location\": [ 2.0, 2.0, 2.0 ] },\n",
       "        \"multiple texts\": { \"location\": [ -2.0, -2.0, -2.0 ] },\n",
       "        \"nervousness\": { \"location\": [ -2.0, -2.0, -2.0 ] },\n",
       "        \"network \": { \"location\": [ 2.0, 2.0, 2.0 ] },\n",
       "        \"networks\": { \"location\": [ -2.0, -2.0, -2.0 ] },\n",
       "        \"new friends\": { \"location\": [ 2.0, 2.0, 2.0 ] },\n",
       "        \"one text\": { \"location\": [ 2.0, 2.0, 2.0 ] },\n",
       "        \"pdf\": { \"location\": [ -2.0, -2.0, -2.0 ] },\n",
       "        \"picnic\": { \"location\": [ 2.0, 2.0, 2.0 ] },\n",
       "        \"picnics\": { \"location\": [ -2.0, -2.0, -2.0 ] },\n",
       "        \"poetry\": { \"location\": [ 2.0, 2.0, 2.0 ] },\n",
       "        \"pool\": { \"location\": [ -2.0, -2.0, -2.0 ] },\n",
       "        \"possibilities\": { \"location\": [ 2.0, 2.0, 2.0 ] },\n",
       "        \"practice\": { \"location\": [ 2.0, 2.0, 2.0 ] },\n",
       "        \"project\": { \"location\": [ 2.0, 2.0, 2.0 ] },\n",
       "        \"python\": { \"location\": [ -2.0, -2.0, -2.0 ] },\n",
       "        \"python coding\": { \"location\": [ 2.0, 2.0, 2.0 ] },\n",
       "        \"readings\": { \"location\": [ 2.0, 2.0, 2.0 ] },\n",
       "        \"reality\": { \"location\": [ 0.8481041226294497, -1.8943921226720122, 2.0 ] },\n",
       "        \"relationality \": { \"location\": [ -2.0, -2.0, -2.0 ] },\n",
       "        \"rituals\": { \"location\": [ -2.0, -2.0, -2.0 ] },\n",
       "        \"schedule\": { \"location\": [ -2.0, -2.0, -2.0 ] },\n",
       "        \"sharing\": { \"location\": [ 2.0, 2.0, 2.0 ] },\n",
       "        \"slack\": { \"location\": [ 2.0, 2.0, 2.0 ] },\n",
       "        \"small group\": { \"location\": [ 2.0, 2.0, 2.0 ] },\n",
       "        \"smoking\": { \"location\": [ -2.0, -2.0, -2.0 ] },\n",
       "        \"snacks\": { \"location\": [ -2.0, -2.0, -2.0 ] },\n",
       "        \"software\": { \"location\": [ -2.0, -2.0, -2.0 ] },\n",
       "        \"sore throat\": { \"location\": [ 2.0, 2.0, 2.0 ] },\n",
       "        \"spreadsheet\": { \"location\": [ -2.0, -2.0, -2.0 ] },\n",
       "        \"strangers\": { \"location\": [ 2.0, 2.0, 2.0 ] },\n",
       "        \"strength\": { \"location\": [ 2.0, 2.0, 2.0 ] },\n",
       "        \"sweet\": { \"location\": [ -2.0, -2.0, -2.0 ] },\n",
       "        \"talking\": { \"location\": [ 2.0, 2.0, 2.0 ] },\n",
       "        \"talking \": { \"location\": [ 2.0, 2.0, 2.0 ] },\n",
       "        \"the matrix\": { \"location\": [ 2.0, 2.0, 2.0 ] },\n",
       "        \"train riding pair\": { \"location\": [ -2.0, -2.0, -2.0 ] },\n",
       "        \"vulnerability\": { \"location\": [ 0.12421390023608797, -0.49271150951711207, 1.2622375908939656 ] },\n",
       "        \"zizek\": { \"location\": [ 2.0, 2.0, 2.0 ] }\n",
       "    }\n",
       "});\n",
       "\n",
       "               $d.resizable({\n",
       "                   aspectRatio: 600 / 400,\n",
       "                   resize: function (evt, ui) {\n",
       "                       $d.jgraph.renderer.setSize(ui.size.width,\n",
       "                                                  ui.size.height);\n",
       "                   }\n",
       "               });\n",
       "           });\n",
       "           </script>"
      ],
      "text/plain": [
       "<IPython.core.display.HTML object>"
      ]
     },
     "metadata": {},
     "output_type": "display_data"
    }
   ],
   "source": [
    "jgraph.draw(edges)"
   ]
  },
  {
   "cell_type": "markdown",
   "metadata": {},
   "source": [
    "## Let's create a network graph data structure!\n",
    "\n",
    "The network graph, like the exercise in Graph Commons, assumes that each entry or row in the spreadsheet is a link between the `from` and `to` nodes.\n",
    "\n",
    "We're going to run through our data, get all the unique nodes, and then use that list to fill a `dict` to represent a graph. \n",
    "\n",
    "### Get unique nodes"
   ]
  },
  {
   "cell_type": "code",
   "execution_count": 64,
   "metadata": {},
   "outputs": [
    {
     "name": "stdout",
     "output_type": "stream",
     "text": [
      "['multiple texts', 'community', 'laughter', 'learning', 'S4AD', 'snacks', 'nervousness', 'friday', '<3', 'home', 'bar', 'networks', 'python', 'friendships', 'chair', 'confusion', 'alternatives', 'less strange', 'hot summer', 'devices', 'imagination', 'aesthetics', 'analog freedom', 'vulnerability', 'network ', 'asking', 'distractions', 'practice', 'readings', 'loops', 'jupyter', 'future', 'one text', 'after class', 'the matrix', 'slack', 'library', 'looking', 'zizek', 'abercombie & fitch', 'hunger', 'brizy night', 'big group', 'strength', 'flirts', 'code', 'conversations', 'new friends', 'evening', 'couch', 'project', 'laughs', 'relationality ', 'awkward silence embracing', 'ideology', 'final project', 'data', 'pdf', 'picnics', 'digital control', 'hangover', 'software', 'food', 'pool', 'collaboration', 'In the DMs', 'knowledge', 'spreadsheet', 'rituals', 'drawing', 'forgetting', 'train riding pair', 'listening', 'instagram', 'caring', 'classmate', 'Breeze ', 'explanation', 'google forms', 'anxiety', 'care', 'smoking', 'possibilities', 'abercrombie & fitch', 'sweet', 'schedule', 'Lorimer', 'Courtyard', 'reality', 'EVERYTHING', 'Q&As', 'sore throat', 'coding', 'abstract thinking', 'python coding', 'kindess', 'poetry', 'courtyard', 'Slack', 'ideas', 'sharing', 'strangers', 'small group', 'dance party', 'interface', 'mistakes', 'Dance Party', 'breezes', 'BBQ', 'gooey', 'talking', 'classroom', 'GUI', 'friends', 'Bar', 'talking ', 'picnic']\n"
     ]
    }
   ],
   "source": [
    "all_nodes = []\n",
    "\n",
    "for e in edges:\n",
    "    # add the first node in the edge to all_nodes\n",
    "    all_nodes.append(e[0])\n",
    "    # add the second node in the edge to all_nodes\n",
    "    all_nodes.append(e[1])\n",
    "    \n",
    "# a 'set' is a data structure that can only contain unique elements --\n",
    "# so by converting to a set and back to a list, we get only a unique list of nodes.\n",
    "unique_nodes = list(set(all_nodes))\n",
    "\n",
    "print(unique_nodes)\n",
    "\n",
    "#### here's a challenge: the single line below does the exact same thing as the lines of code above. can you see why?\n",
    "# unique_nodes = list(set([e for edge in edges for e in edge]))\n"
   ]
  },
  {
   "cell_type": "markdown",
   "metadata": {},
   "source": [
    "#### (On dicts)\n",
    "\n",
    "Now, we're going to create a `dict` that represents a graph.\n",
    "\n",
    "A dict stores things in a `key-value` structure. You can metaphorically think of `keys` are like `names on mailboxes`, `values` are like the `content inside the mailbox`.\n",
    "\n",
    "You can 'look up' data using the `key`, and get the `value` that's inside. \n",
    "\n",
    "For example,\n",
    "```\n",
    "sfpc = { \"address\": \"155 bank st\", \"year founded\": \"2013\" }\n",
    "print(sfpc['year founded']) ## 2013\n",
    "```\n",
    "\n",
    "Dicts are a really helpful (and opinionated!) way to structure data.\n",
    "\n",
    "\n",
    "\n",
    "\n",
    "\n"
   ]
  },
  {
   "cell_type": "markdown",
   "metadata": {},
   "source": [
    "### Create a graph\n",
    "\n",
    "For example, if you have data `a <-> b, b <-> c, c <-> a`, the `graph` dict will look like:\n",
    "\n",
    "```\n",
    "graph = {\n",
    "        'a': ['b', 'c'],\n",
    "        'b': ['c', 'a'],\n",
    "        'c': ['a', 'b']\n",
    "        }\n",
    "```\n",
    "This is what's called an [adjacency list](https://en.wikipedia.org/wiki/Adjacency_list), because the data stores the list of adjacencies -- what's close to what.\n",
    "\n",
    "For example: `graph['b']` will return `['c', 'a']`\n",
    "which lets us know that \"adjacent to node `b` are nodes `c` and `a`\"\n",
    "\n",
    "(Imagine what the data would look like in jgraph - any ideas?)"
   ]
  },
  {
   "cell_type": "code",
   "execution_count": 65,
   "metadata": {},
   "outputs": [
    {
     "name": "stdout",
     "output_type": "stream",
     "text": [
      "{'<3': ['instagram'],\n",
      " 'BBQ': ['S4AD', 'Bar'],\n",
      " 'Bar': ['BBQ', 'Dance Party'],\n",
      " 'Breeze ': ['Courtyard'],\n",
      " 'Courtyard': ['Breeze '],\n",
      " 'Dance Party': ['Bar', 'Lorimer'],\n",
      " 'EVERYTHING': ['the matrix'],\n",
      " 'GUI': ['gooey', 'python'],\n",
      " 'In the DMs': ['Slack'],\n",
      " 'Lorimer': ['Dance Party'],\n",
      " 'Q&As': ['after class'],\n",
      " 'S4AD': ['BBQ', 'picnics'],\n",
      " 'Slack': ['In the DMs'],\n",
      " 'abercombie & fitch': ['zizek'],\n",
      " 'abercrombie & fitch': ['zizek'],\n",
      " 'abstract thinking': ['spreadsheet'],\n",
      " 'aesthetics': ['instagram', 'ideology'],\n",
      " 'after class': ['Q&As'],\n",
      " 'alternatives': ['imagination'],\n",
      " 'analog freedom': ['digital control'],\n",
      " 'anxiety': ['distractions'],\n",
      " 'asking': ['talking '],\n",
      " 'awkward silence embracing': ['talking', 'care'],\n",
      " 'bar': ['friends'],\n",
      " 'big group': ['small group'],\n",
      " 'breezes': ['courtyard'],\n",
      " 'brizy night': ['hot summer'],\n",
      " 'care': ['listening', 'awkward silence embracing'],\n",
      " 'caring': ['sharing'],\n",
      " 'chair': ['couch'],\n",
      " 'classmate': ['train riding pair'],\n",
      " 'classroom': ['courtyard', 'pool'],\n",
      " 'code': ['poetry'],\n",
      " 'coding': ['loops', 'drawing', 'drawing'],\n",
      " 'collaboration': ['slack', 'courtyard', 'community', 'community'],\n",
      " 'community': ['snacks', 'collaboration', 'collaboration', 'networks'],\n",
      " 'confusion': ['python'],\n",
      " 'conversations': ['courtyard'],\n",
      " 'couch': ['chair'],\n",
      " 'courtyard': ['laughter',\n",
      "               'classroom',\n",
      "               'collaboration',\n",
      "               'smoking',\n",
      "               'conversations',\n",
      "               'breezes'],\n",
      " 'dance party': ['hangover', 'friday'],\n",
      " 'data': ['spreadsheet', 'forgetting', 'python coding', 'poetry'],\n",
      " 'devices': ['interface', 'rituals'],\n",
      " 'digital control': ['analog freedom'],\n",
      " 'distractions': ['anxiety'],\n",
      " 'drawing': ['coding', 'coding'],\n",
      " 'evening': ['hunger'],\n",
      " 'explanation': ['kindess'],\n",
      " 'final project': ['project'],\n",
      " 'flirts': ['laughter'],\n",
      " 'food': ['sharing'],\n",
      " 'forgetting': ['data'],\n",
      " 'friday': ['dance party'],\n",
      " 'friends': ['strangers', 'bar', 'home'],\n",
      " 'friendships': ['laughs'],\n",
      " 'future': ['interface', 'rituals', 'possibilities'],\n",
      " 'gooey': ['GUI'],\n",
      " 'google forms': ['spreadsheet'],\n",
      " 'hangover': ['dance party'],\n",
      " 'home': ['friends', 'home', 'home', 'rituals'],\n",
      " 'hot summer': ['brizy night'],\n",
      " 'hunger': ['listening', 'snacks', 'evening', 'sweet'],\n",
      " 'ideas': ['mistakes'],\n",
      " 'ideology': ['software', 'aesthetics', 'zizek', 'interface'],\n",
      " 'imagination': ['alternatives', 'mistakes', 'laughs'],\n",
      " 'instagram': ['aesthetics', '<3', 'new friends'],\n",
      " 'interface': ['ideology', 'devices', 'future'],\n",
      " 'jupyter': ['python'],\n",
      " 'kindess': ['explanation'],\n",
      " 'knowledge': ['snacks', 'sharing', 'practice'],\n",
      " 'laughs': ['imagination', 'friendships', 'mistakes', 'spreadsheet'],\n",
      " 'laughter': ['courtyard', 'nervousness', 'relationality ', 'flirts'],\n",
      " 'learning': ['mistakes'],\n",
      " 'less strange': ['strangers'],\n",
      " 'library': ['network '],\n",
      " 'listening': ['hunger', 'looking', 'talking', 'care'],\n",
      " 'looking': ['listening'],\n",
      " 'loops': ['poetry', 'coding'],\n",
      " 'mistakes': ['imagination', 'learning', 'ideas', 'laughs'],\n",
      " 'multiple texts': ['one text'],\n",
      " 'nervousness': ['laughter'],\n",
      " 'network ': ['library'],\n",
      " 'networks': ['community'],\n",
      " 'new friends': ['instagram', 'picnic'],\n",
      " 'one text': ['multiple texts'],\n",
      " 'pdf': ['readings'],\n",
      " 'picnic': ['new friends'],\n",
      " 'picnics': ['S4AD'],\n",
      " 'poetry': ['data', 'code', 'talking', 'loops'],\n",
      " 'pool': ['classroom'],\n",
      " 'possibilities': ['future'],\n",
      " 'practice': ['knowledge'],\n",
      " 'project': ['final project', 'slack'],\n",
      " 'python': ['confusion', 'GUI', 'jupyter'],\n",
      " 'python coding': ['data', 'slack'],\n",
      " 'readings': ['schedule', 'pdf'],\n",
      " 'reality': ['spreadsheet'],\n",
      " 'relationality ': ['laughter'],\n",
      " 'rituals': ['devices', 'home', 'future'],\n",
      " 'schedule': ['spreadsheet', 'slack', 'readings'],\n",
      " 'sharing': ['food', 'knowledge', 'caring', 'vulnerability'],\n",
      " 'slack': ['schedule', 'python coding', 'collaboration', 'project'],\n",
      " 'small group': ['big group'],\n",
      " 'smoking': ['courtyard', 'sore throat'],\n",
      " 'snacks': ['hunger', 'spreadsheet', 'community', 'knowledge'],\n",
      " 'software': ['ideology'],\n",
      " 'sore throat': ['smoking'],\n",
      " 'spreadsheet': ['snacks',\n",
      "                 'schedule',\n",
      "                 'spreadsheet',\n",
      "                 'spreadsheet',\n",
      "                 'reality',\n",
      "                 'data',\n",
      "                 'abstract thinking',\n",
      "                 'google forms',\n",
      "                 'laughs'],\n",
      " 'strangers': ['friends', 'less strange'],\n",
      " 'strength': ['vulnerability'],\n",
      " 'sweet': ['hunger'],\n",
      " 'talking': ['listening', 'poetry', 'awkward silence embracing'],\n",
      " 'talking ': ['asking'],\n",
      " 'the matrix': ['EVERYTHING'],\n",
      " 'train riding pair': ['classmate'],\n",
      " 'vulnerability': ['sharing', 'strength'],\n",
      " 'zizek': ['ideology', 'abercombie & fitch', 'abercrombie & fitch']}\n"
     ]
    }
   ],
   "source": [
    "graph = {}\n",
    "\n",
    "# iterate through edges\n",
    "\n",
    "for edge in edges:\n",
    "    \n",
    "    # for each edge, let's define 'node_from' and 'node_to' so that the code is easier for humans to read\n",
    "\n",
    "    node_from = edge[0]\n",
    "    node_to = edge[1]\n",
    "    \n",
    "    # if the node_from doesn't already exist in the 'graph' dict, \n",
    "    # let's insert node_from as a key, and have the value be an empty array\n",
    "\n",
    "    if(node_from not in graph):\n",
    "        graph[node_from] = []\n",
    "    \n",
    "    # in the array that exists in graph[node_from], add node_to\n",
    "\n",
    "    graph[node_from].append(node_to)\n",
    "    \n",
    "    # let's do it in the reverse, since we'll assume that the graph isn't directed\n",
    "    # which means that there's no directional relationship.\n",
    " \n",
    "    if(node_to not in graph):\n",
    "        graph[node_to] = []\n",
    "    graph[node_to].append(node_from)\n",
    "    \n",
    "# now you can see how the data is structured as an adjacency list!\n",
    "# compare this against the data output from the CSV and see if you can tell what's going on intuitively.\n",
    "\n",
    "# pprint will nicely format the dict.\n",
    "pprint(graph)"
   ]
  },
  {
   "cell_type": "code",
   "execution_count": 66,
   "metadata": {},
   "outputs": [
    {
     "name": "stdout",
     "output_type": "stream",
     "text": [
      "dict_keys(['strangers', 'friends', 'S4AD', 'BBQ', 'Bar', 'software', 'ideology', 'kindess', 'explanation', 'classmate', 'train riding pair', 'Dance Party', 'listening', 'hunger', 'Courtyard', 'Breeze ', 'snacks', 'picnics', 'spreadsheet', 'bar', 'courtyard', 'laughter', 'nervousness', 'community', 'home', 'schedule', 'relationality ', 'knowledge', 'Lorimer', 'reality', 'slack', 'data', 'classroom', 'less strange', 'abstract thinking', 'dance party', 'hangover', 'big group', 'small group', 'forgetting', 'final project', 'project', 'pool', 'food', 'sharing', 'flirts', 'python coding', 'hot summer', 'brizy night', 'looking', 'readings', 'poetry', 'talking', 'pdf', 'code', 'practice', 'talking ', 'asking', 'collaboration', 'caring', 'loops', 'after class', 'Q&As', 'aesthetics', 'instagram', 'friday', 'google forms', 'awkward silence embracing', 'coding', '<3', 'one text', 'multiple texts', 'care', 'zizek', 'smoking', 'networks', 'abercombie & fitch', 'abercrombie & fitch', 'conversations', 'analog freedom', 'digital control', 'anxiety', 'distractions', 'new friends', 'drawing', 'vulnerability', 'sore throat', 'breezes', 'picnic', 'confusion', 'python', 'strength', 'interface', 'imagination', 'alternatives', 'GUI', 'gooey', 'mistakes', 'library', 'network ', 'learning', 'laughs', 'evening', 'ideas', 'jupyter', 'friendships', 'devices', 'sweet', 'rituals', 'future', 'Slack', 'In the DMs', 'chair', 'couch', 'the matrix', 'EVERYTHING', 'possibilities'])\n"
     ]
    }
   ],
   "source": [
    "# let's see all the keys of the graph!\n",
    "# this happens to equal the list of 'unique_nodes'.. and that's not a coincidence\n",
    "\n",
    "print(graph.keys())"
   ]
  },
  {
   "cell_type": "markdown",
   "metadata": {},
   "source": [
    "## Poetry\n",
    "\n",
    "Here comes the poetry part! \n",
    "\n",
    "Imagine our graph -- with words on a node. There's a lot of different ways this could turn into poetry - different games and processes that would alter how the graph is 'read'. \n",
    "\n",
    "### Randomly walking around on the graph\n",
    "\n",
    "We'll try a `random graph traversal`. \n",
    "1. We'll start at a random node.\n",
    "2. Then, we'll examine the nodes we can connect to, and randomly jump to one of those nodes.\n",
    "3. And then we'll repeat step 2 a few times.\n",
    "\n",
    "Consider this traversal to be in line with the spirit of a [Situationist dérive](https://en.wikipedia.org/wiki/D%C3%A9rive), or a fluxus art game -- but with a graph!"
   ]
  },
  {
   "cell_type": "code",
   "execution_count": 67,
   "metadata": {},
   "outputs": [
    {
     "name": "stdout",
     "output_type": "stream",
     "text": [
      "schedule ==> \n",
      "spreadsheet ==> \n",
      "spreadsheet ==> \n",
      "reality ==> \n",
      "spreadsheet ==> \n",
      "schedule ==> \n"
     ]
    }
   ],
   "source": [
    "# choose a random node and hop skip randomly to what it's connected to\n",
    "\n",
    "# choose a random node!\n",
    "current_node = random.choice(list(graph.keys()))\n",
    "\n",
    "print (current_node + \" ==> \")\n",
    "\n",
    "# do this five times\n",
    "for i in range(5):\n",
    "    \n",
    "    # find all the options we can go to in the graph from 'current_node'\n",
    "    to_options = graph[current_node]\n",
    "    # pick one of those randomly and set 'current_node' that node\n",
    "    current_node = random.choice(to_options)\n",
    "    \n",
    "    print (current_node + \" ==> \")\n",
    "    \n",
    "    \n",
    "# try running this repeatedly"
   ]
  },
  {
   "cell_type": "markdown",
   "metadata": {},
   "source": [
    "That worked great! Let's put this inside a function, and then define a *list of verbs* we'll use to make this list a little bit.. poetic."
   ]
  },
  {
   "cell_type": "code",
   "execution_count": 68,
   "metadata": {},
   "outputs": [
    {
     "name": "stdout",
     "output_type": "stream",
     "text": [
      "['picnic', 'new friends', 'picnic', 'new friends', 'picnic']\n"
     ]
    }
   ],
   "source": [
    "\n",
    "def randomly_traverse_graph(graph, number_of_steps):\n",
    "\n",
    "    current_node = random.choice(list(graph.keys()))\n",
    "    \n",
    "    steps = []\n",
    "    steps.append(current_node)\n",
    "    \n",
    "    for i in range(number_of_steps - 1):\n",
    "        to_options = graph[current_node]\n",
    "        current_node = random.choice(to_options)\n",
    "        steps.append(current_node)\n",
    "        \n",
    "    return steps\n",
    "    \n",
    "    \n",
    "    \n",
    "print(randomly_traverse_graph(graph, 5))\n"
   ]
  },
  {
   "cell_type": "code",
   "execution_count": 69,
   "metadata": {},
   "outputs": [],
   "source": [
    "list_of_verbs = [\"affects\", \"changes\", \"alters\", \"relates to\", \"thinks about\",\"touches\",\"creates dreams about\",\"helps\",\"also is connected to\"]\n"
   ]
  },
  {
   "cell_type": "markdown",
   "metadata": {},
   "source": [
    "### Words from our random walk\n",
    "\n",
    "Now, we'll generate our random path through the graph, then for each word in the list, we'll randomly choose a verb, and list them together."
   ]
  },
  {
   "cell_type": "code",
   "execution_count": 70,
   "metadata": {},
   "outputs": [
    {
     "name": "stdout",
     "output_type": "stream",
     "text": [
      "analog freedom affects\n",
      "digital control thinks about\n",
      "analog freedom alters\n",
      "digital control creates dreams about\n",
      "analog freedom changes\n"
     ]
    }
   ],
   "source": [
    "steps = randomly_traverse_graph(graph, 5)\n",
    "\n",
    "for s in steps:\n",
    "    random_verb = random.choice(list_of_verbs)\n",
    "    print(s + \" \" + random_verb)\n"
   ]
  },
  {
   "cell_type": "markdown",
   "metadata": {},
   "source": [
    "This is getting somewhere! What if we printed out the list in pairs, so that the verb is between two of the words?"
   ]
  },
  {
   "cell_type": "code",
   "execution_count": 71,
   "metadata": {},
   "outputs": [
    {
     "name": "stdout",
     "output_type": "stream",
     "text": [
      "analog freedom alters digital control; digital control affects analog freedom; analog freedom thinks about digital control; digital control affects analog freedom.\n"
     ]
    }
   ],
   "source": [
    "poem = \"\"\n",
    "\n",
    "for i in range(len(steps) - 1):\n",
    "    word = steps[i]\n",
    "    next_word = steps[i + 1]\n",
    "    \n",
    "    # each line is a word, a random verb, and then the next word\n",
    "    poem += word + \" \" + random.choice(list_of_verbs) + \" \" + next_word\n",
    "    \n",
    "    # if it's the last line add a period; otherwise add a semicolon\n",
    "    if(i == len(steps) - 2):\n",
    "        poem += \".\"\n",
    "    else:\n",
    "        poem += \"; \"    \n",
    "\n",
    "\n",
    "print(poem)"
   ]
  },
  {
   "cell_type": "markdown",
   "metadata": {},
   "source": [
    "This works great! Imagine ways in which you could alter this -- by altering the list of verbs, or adding a list of adverbs as well as verbs, changing the formatting. \n",
    "\n",
    "## Poetry with Tracery \n",
    "\n",
    "In this next and last section, we'll use Tracery, a library created by Kate Compton (and ported to Python by Allison Parrish) to do some more complex poetry creation. \n",
    "\n",
    "For a really good intro to Tracery, see Allison Parrish's tutorial from her *Reading and Writing Electronic Text* class on [Tracery and Python](https://github.com/aparrish/rwet/blob/master/tracery-and-python.ipynb).\n",
    "\n",
    "**The simple explanation is:**\n",
    "\n",
    "In Tracery, you define a 'grammar', consisting of lists of words. \n",
    "\n",
    "\n"
   ]
  },
  {
   "cell_type": "code",
   "execution_count": 72,
   "metadata": {},
   "outputs": [],
   "source": [
    "testGrammar = { \"season\": [\"summer\", \"spring\", \"autumn\", \"winter\"] }"
   ]
  },
  {
   "cell_type": "markdown",
   "metadata": {},
   "source": [
    "Each list of word is represented by a starting symbol. (In the above case, `season`).\n",
    "\n",
    "If you use that starting symbol with # symbols around it (`#season#`), then Tracery will randomly pick one of the lists of words and use it.\n",
    "\n"
   ]
  },
  {
   "cell_type": "code",
   "execution_count": 73,
   "metadata": {},
   "outputs": [
    {
     "name": "stdout",
     "output_type": "stream",
     "text": [
      "autumn\n"
     ]
    }
   ],
   "source": [
    "print(tracery.Grammar(testGrammar).flatten(\"#season#\"))\n",
    "\n",
    "# try running this repeatedly"
   ]
  },
  {
   "cell_type": "markdown",
   "metadata": {},
   "source": [
    "Grammars can be nested; you can have a grammar that calls another grammar. Here's an example using our graph data:"
   ]
  },
  {
   "cell_type": "code",
   "execution_count": 74,
   "metadata": {},
   "outputs": [
    {
     "name": "stdout",
     "output_type": "stream",
     "text": [
      "the moon calmly affects the sun\n"
     ]
    }
   ],
   "source": [
    "def generate_simple_line(node_from, node_to):\n",
    "    grammarSource = {\n",
    "        \"node_from\": node_from,\n",
    "        \"node_to\": node_to,\n",
    "        \"adverb\": \"suddenly|silently|happily|surprisingly|calmly|beautifully\".split(\"|\"),\n",
    "        \"verb\":  [\"affects\", \"dances around\", \"changes\", \"alters\", \"relates to\", \"thinks about\",\"touches\",\"creates dreams about\",\"helps\",\"also is connected to\"],\n",
    "        \"poem\": \"#node_from# #adverb# #verb# #node_to#\"\n",
    "    }\n",
    "    grammar = tracery.Grammar(grammarSource)\n",
    "    return grammar.flatten(\"#poem#\")\n",
    "    \n",
    "print(generate_simple_line(\"the moon\", \"the sun\"))\n"
   ]
  },
  {
   "cell_type": "code",
   "execution_count": 75,
   "metadata": {},
   "outputs": [
    {
     "name": "stdout",
     "output_type": "stream",
     "text": [
      "python coding calmly creates dreams about slack\n",
      "slack calmly also is connected to collaboration\n",
      "collaboration calmly affects community\n",
      "community suddenly creates dreams about networks\n",
      "networks calmly creates dreams about community\n",
      "community silently creates dreams about collaboration\n",
      "collaboration suddenly changes community\n",
      "community calmly also is connected to collaboration\n",
      "collaboration happily thinks about community\n",
      "\n"
     ]
    }
   ],
   "source": [
    "steps = randomly_traverse_graph(graph, 10)\n",
    "\n",
    "poem = \"\"\n",
    "for i in range(len(steps) - 1):\n",
    "    step = steps[i]\n",
    "    next_step = steps[i + 1]\n",
    "    poem += generate_simple_line(step, next_step) + \"\\n\"\n",
    "\n",
    "print(poem)"
   ]
  },
  {
   "cell_type": "code",
   "execution_count": 76,
   "metadata": {},
   "outputs": [
    {
     "name": "stdout",
     "output_type": "stream",
     "text": [
      "buzzing, moon fuzzily donates with sun.\n"
     ]
    }
   ],
   "source": [
    "def generate_poem_line(node_from, node_to):\n",
    "    grammarSource = {\n",
    "        \"node_from\": node_from,\n",
    "        \"node_to\": node_to,\n",
    "        \"wonderadj\": \"quiet|solemn|contemplative|still|tender|harmonious\".split(\"|\"),\n",
    "        \"tensionadj\": \"trembling|buzzing|vibrating|swirling\".split(\"|\"),\n",
    "        \"adj\": \"#wonderadj#,|#tensionadj#,\".split(\"|\"),\n",
    "        \"name\": \"fire|bother|wonder|winter\".split(\"|\"),\n",
    "        \"earlylate\": \"early |late |mid-\".split(\"|\"),\n",
    "        \"season\": \"autumn|summer|fall|winter\".split(\"|\"),\n",
    "        \"seasonornot\": \"|in #earlylate##season#, \".split(\"|\"),\n",
    "        \"adverbornot\": \"|#adverb#\".split(\"|\"),\n",
    "        \"adverb\": \"briskly|tartly|simply|harshly|fuzzily|freely|ably|copiously|furtively|endlessly|sarcastically|generatively|slowly|distinctly\".split(\"|\"),\n",
    "        \"verbs\": \"dances|thinks|touches|dreams|hesitates|loves|feels|wanders|does|sits|reads|looks|runs|asks|collapses|chats|donates\".split(\"|\"),\n",
    "        \"preposition\": \"around|about|with|of|to|from\".split(\"|\"),\n",
    "        \"lineending\": ['',',',';','--','.'],\n",
    "        \"poemline1\": \"#adj# #node_from# #adverb# #verbs# #preposition# #node_to##lineending#\",\n",
    "        \"poemline2\": \"#seasonornot##node_from# and #node_to# #adverb# #verbs##lineending#\",\n",
    "        \"poem\": \"#poemline1#|#poemline2#\".split(\"|\")\n",
    "    }\n",
    "    grammar = tracery.Grammar(grammarSource)\n",
    "    return grammar.flatten(\"#poem#\")\n",
    "    \n",
    "print(generate_poem_line(\"moon\", \"sun\"))\n"
   ]
  },
  {
   "cell_type": "code",
   "execution_count": 77,
   "metadata": {},
   "outputs": [
    {
     "name": "stdout",
     "output_type": "stream",
     "text": [
      "still, breezes fuzzily loves from courtyard;\n",
      "courtyard and conversations fuzzily reads--\n",
      "buzzing, conversations distinctly feels with courtyard--\n",
      "contemplative, courtyard sarcastically looks of laughter.\n",
      "laughter and nervousness tartly reads\n",
      "swirling, nervousness simply donates from laughter\n",
      "in early fall, laughter and flirts generatively chats\n",
      "in early autumn, flirts and laughter furtively thinks,\n",
      "in early fall, laughter and flirts ably reads;\n",
      "\n"
     ]
    }
   ],
   "source": [
    "steps = randomly_traverse_graph(graph, 10)\n",
    "\n",
    "poem = \"\"\n",
    "for i in range(len(steps) - 1):\n",
    "    step = steps[i]\n",
    "    next_step = steps[i + 1]\n",
    "    poem += generate_poem_line(step, next_step) + \"\\n\"\n",
    "\n",
    "print(poem)"
   ]
  },
  {
   "cell_type": "code",
   "execution_count": null,
   "metadata": {},
   "outputs": [],
   "source": []
  },
  {
   "cell_type": "code",
   "execution_count": null,
   "metadata": {},
   "outputs": [],
   "source": []
  },
  {
   "cell_type": "code",
   "execution_count": null,
   "metadata": {},
   "outputs": [],
   "source": []
  },
  {
   "cell_type": "code",
   "execution_count": null,
   "metadata": {},
   "outputs": [],
   "source": []
  },
  {
   "cell_type": "code",
   "execution_count": null,
   "metadata": {},
   "outputs": [],
   "source": []
  }
 ],
 "metadata": {
  "kernelspec": {
   "display_name": "Python 3",
   "language": "python",
   "name": "python3"
  },
  "language_info": {
   "codemirror_mode": {
    "name": "ipython",
    "version": 3
   },
   "file_extension": ".py",
   "mimetype": "text/x-python",
   "name": "python",
   "nbconvert_exporter": "python",
   "pygments_lexer": "ipython3",
   "version": "3.6.5"
  }
 },
 "nbformat": 4,
 "nbformat_minor": 2
}

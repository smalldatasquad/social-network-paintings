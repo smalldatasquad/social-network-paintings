{
 "cells": [
  {
   "cell_type": "code",
   "execution_count": 184,
   "metadata": {},
   "outputs": [],
   "source": [
    "import requests\n",
    "# this downloads/requests stuff from the internet \n",
    "\n",
    "import csv\n",
    "# this helps you parse csv\n",
    "\n",
    "import re\n",
    "# this uses regular expressions, or regex, a way to search grab chunks of text from a string\n",
    "\n",
    "from pprint import pprint\n",
    "# this helps us 'pretty print' data -- 'pretty print' is a term that means nicely formatting & outputting data\n",
    "\n",
    "import random\n",
    "# this helps us choose items from a list randomly, or to create random numbers, etc"
   ]
  },
  {
   "cell_type": "markdown",
   "metadata": {},
   "source": [
    "# Poem Generator\n",
    "\n",
    "### Download the data!\n",
    "Replace `gsheet_url` with a link to a publicly viable Google Sheet"
   ]
  },
  {
   "cell_type": "code",
   "execution_count": 185,
   "metadata": {},
   "outputs": [],
   "source": [
    "gsheet_url = \"https://docs.google.com/spreadsheets/d/1TgcgIhUjEdSpzYlYgyP4UOfgmpSUU-FcqsBcOXk9PEg/edit#gid=2092952886\""
   ]
  },
  {
   "cell_type": "markdown",
   "metadata": {},
   "source": [
    "This cell uses RegEx, or regular expressions, to do an advanced search and extract the document ID and sheet ID from `gsheet_url`."
   ]
  },
  {
   "cell_type": "code",
   "execution_count": 186,
   "metadata": {},
   "outputs": [
    {
     "name": "stdout",
     "output_type": "stream",
     "text": [
      "https://docs.google.com/spreadsheets/d/1TgcgIhUjEdSpzYlYgyP4UOfgmpSUU-FcqsBcOXk9PEg/export?gid=2092952886&format=csv\n"
     ]
    }
   ],
   "source": [
    "# define functions that extract the doc ID / sheet ID from gsheet_url\n",
    "def getDocIdFromUrl(url):\n",
    "    return re.search(\"([-\\w]{25,})\", url).group(1)\n",
    "def getSheetIdFromUrl(url):\n",
    "    return re.search(\"gid=([-\\w]+)\", url).group(1)\n",
    "\n",
    "# craft the URL that gives us a CSV\n",
    "gsheet_csv_url = \"https://docs.google.com/spreadsheets/d/\" + getDocIdFromUrl(gsheet_url) + \"/export?gid=\" + getSheetIdFromUrl(gsheet_url) + \"&format=csv\"\n",
    "\n",
    "# if you're curious, try going to this url in your browser! It will automatically download a CSV file\n",
    "print(gsheet_csv_url)"
   ]
  },
  {
   "cell_type": "markdown",
   "metadata": {},
   "source": [
    "Now we download the data! \n",
    "Optionally, if you want to get the data from a `*.csv` file that's saved on your computer, look at the next block."
   ]
  },
  {
   "cell_type": "code",
   "execution_count": 187,
   "metadata": {},
   "outputs": [
    {
     "name": "stdout",
     "output_type": "stream",
     "text": [
      "[['real estate', 'emails'], ['spreadsheets', 'financial plans'], ['lawyers', 'emails'], ['spreadsheets', 'organization'], ['real estate', 'spreadsheets'], ['financial plans', 'space layout'], ['financial plans', 'budgeting'], ['budgeting', 'buildout'], ['space layout', 'kitchen'], ['space layout', 'shop'], ['space layout', 'how people feel'], ['space layout', 'soft power'], ['shop', 'making things'], ['making things', 'learning things'], ['making things', 'broken nails'], ['learning things', 'sharing'], ['budgeting', 'work exchange'], ['sharing', 'fairness'], ['fairness', 'accountability'], ['accountability', 'responsibility'], ['work exchange', 'grants'], ['work exchange', 'fairness'], ['responsibility', 'communication'], ['making things', 'playing together'], ['playing together', 'making friends'], ['making friends', 'making things'], ['making friends', 'making a collective'], ['community', 'awareness'], ['making a collective', 'financial plans'], ['making a collective', 'decision '], ['decision', 'spreadsheets'], ['decision', 'soft power'], ['soft power', 'organization'], ['how people feel', 'making friends'], ['soft power', 'how people feel'], ['soft power', 'awareness'], ['kitchen', 'budgeting'], ['spreadsheets', 'infrastructure'], ['infrastructure', 'responsibility'], ['emotional labor', 'how people feel'], ['emotional labor', 'infrastructure'], ['emotional labor', 'soft power'], ['emotional labor', 'making a collective'], ['emotional labor', 'spreadsheets']]\n"
     ]
    }
   ],
   "source": [
    "# get response from URL\n",
    "response = requests.get(gsheet_csv_url)\n",
    "\n",
    "# make sure it's read/decoded with the right text encoding!\n",
    "decoded_content = response.content.decode('utf-8')\n",
    "\n",
    "# using the CSV library, parse the data! \n",
    "# Split the content on each 'newline', then make sure we use a comma as a delimiter to understand the difference between cells.\n",
    "edges = list(csv.reader(decoded_content.splitlines(), delimiter=','))\n",
    "\n",
    "print(edges)"
   ]
  },
  {
   "cell_type": "markdown",
   "metadata": {},
   "source": [
    "If you want to open a local CSV file on your computer, you can use the code in this comment! Just make sure that `sheet.csv` is in the same directory as this Jupyter notebook file."
   ]
  },
  {
   "cell_type": "code",
   "execution_count": 188,
   "metadata": {},
   "outputs": [
    {
     "data": {
      "text/plain": [
       "'\\nwith open(\"sheet.csv\", \"r\") as f:\\n    reader = csv.reader(f)\\n    edges = list(reader)\\n\\nprint(edges)\\n'"
      ]
     },
     "execution_count": 188,
     "metadata": {},
     "output_type": "execute_result"
    }
   ],
   "source": [
    "\"\"\"\n",
    "with open(\"sheet.csv\", \"r\") as f:\n",
    "    reader = csv.reader(f)\n",
    "    edges = list(reader)\n",
    "\n",
    "print(edges)\n",
    "\"\"\""
   ]
  },
  {
   "cell_type": "code",
   "execution_count": 256,
   "metadata": {
    "scrolled": false
   },
   "outputs": [
    {
     "data": {
      "text/html": [
       "<div id=\"graph-b0bf4632-a44d-4afb-b680-0a60631239db\"></div>\n",
       "           <script type=\"text/javascript\">\n",
       "           require.config({baseUrl: '/',\n",
       "                             paths: {jgraph: ['nbextensions/jgraph.min', 'https://rawgit.com/patrickfuller/jgraph/master/js/build/jgraph.min']}});\n",
       "           require(['jgraph'], function () {\n",
       "               var $d = $('#graph-b0bf4632-a44d-4afb-b680-0a60631239db');\n",
       "               $d.width(600); $d.height(400);\n",
       "               $d.jgraph = jQuery.extend({}, jgraph);\n",
       "               $d.jgraph.create($d, {nodeSize: 2.000000,\n",
       "                                     edgeSize: 0.250000,\n",
       "                                     defaultNodeColor: '0x5bc0de',\n",
       "                                     defaultEdgeColor: '0xaaaaaa',\n",
       "                                     shader: 'basic',\n",
       "                                     z: 100,\n",
       "                                     runOptimization: true,\n",
       "                                     directed: true,\n",
       "                                     showSave: false});\n",
       "               $d.jgraph.draw({\n",
       "    \"edges\": [\n",
       "        { \"source\": \"real estate\", \"target\": \"emails\" },\n",
       "        { \"source\": \"spreadsheets\", \"target\": \"financial plans\" },\n",
       "        { \"source\": \"lawyers\", \"target\": \"emails\" },\n",
       "        { \"source\": \"spreadsheets\", \"target\": \"organization\" },\n",
       "        { \"source\": \"real estate\", \"target\": \"spreadsheets\" },\n",
       "        { \"source\": \"financial plans\", \"target\": \"space layout\" },\n",
       "        { \"source\": \"financial plans\", \"target\": \"budgeting\" },\n",
       "        { \"source\": \"budgeting\", \"target\": \"buildout\" },\n",
       "        { \"source\": \"space layout\", \"target\": \"kitchen\" },\n",
       "        { \"source\": \"space layout\", \"target\": \"shop\" },\n",
       "        { \"source\": \"space layout\", \"target\": \"how people feel\" },\n",
       "        { \"source\": \"space layout\", \"target\": \"soft power\" },\n",
       "        { \"source\": \"shop\", \"target\": \"making things\" },\n",
       "        { \"source\": \"making things\", \"target\": \"learning things\" },\n",
       "        { \"source\": \"making things\", \"target\": \"broken nails\" },\n",
       "        { \"source\": \"learning things\", \"target\": \"sharing\" },\n",
       "        { \"source\": \"budgeting\", \"target\": \"work exchange\" },\n",
       "        { \"source\": \"sharing\", \"target\": \"fairness\" },\n",
       "        { \"source\": \"fairness\", \"target\": \"accountability\" },\n",
       "        { \"source\": \"accountability\", \"target\": \"responsibility\" },\n",
       "        { \"source\": \"work exchange\", \"target\": \"grants\" },\n",
       "        { \"source\": \"work exchange\", \"target\": \"fairness\" },\n",
       "        { \"source\": \"responsibility\", \"target\": \"communication\" },\n",
       "        { \"source\": \"making things\", \"target\": \"playing together\" },\n",
       "        { \"source\": \"playing together\", \"target\": \"making friends\" },\n",
       "        { \"source\": \"making friends\", \"target\": \"making things\" },\n",
       "        { \"source\": \"making friends\", \"target\": \"making a collective\" },\n",
       "        { \"source\": \"community\", \"target\": \"awareness\" },\n",
       "        { \"source\": \"making a collective\", \"target\": \"financial plans\" },\n",
       "        { \"source\": \"making a collective\", \"target\": \"decision \" },\n",
       "        { \"source\": \"decision\", \"target\": \"spreadsheets\" },\n",
       "        { \"source\": \"decision\", \"target\": \"soft power\" },\n",
       "        { \"source\": \"soft power\", \"target\": \"organization\" },\n",
       "        { \"source\": \"how people feel\", \"target\": \"making friends\" },\n",
       "        { \"source\": \"soft power\", \"target\": \"how people feel\" },\n",
       "        { \"source\": \"soft power\", \"target\": \"awareness\" },\n",
       "        { \"source\": \"kitchen\", \"target\": \"budgeting\" },\n",
       "        { \"source\": \"spreadsheets\", \"target\": \"infrastructure\" },\n",
       "        { \"source\": \"infrastructure\", \"target\": \"responsibility\" },\n",
       "        { \"source\": \"emotional labor\", \"target\": \"how people feel\" },\n",
       "        { \"source\": \"emotional labor\", \"target\": \"infrastructure\" },\n",
       "        { \"source\": \"emotional labor\", \"target\": \"soft power\" },\n",
       "        { \"source\": \"emotional labor\", \"target\": \"making a collective\" },\n",
       "        { \"source\": \"emotional labor\", \"target\": \"spreadsheets\" }\n",
       "    ],\n",
       "    \"nodes\": {\n",
       "        \"accountability\": { \"location\": [ -2.0, -2.0, -2.0 ] },\n",
       "        \"awareness\": { \"location\": [ 2.0, 2.0, 2.0 ] },\n",
       "        \"broken nails\": { \"location\": [ 2.0, 2.0, 2.0 ] },\n",
       "        \"budgeting\": { \"location\": [ 2.0, 2.0, 2.0 ] },\n",
       "        \"buildout\": { \"location\": [ 2.0, 2.0, 2.0 ] },\n",
       "        \"communication\": { \"location\": [ 2.0, 2.0, 2.0 ] },\n",
       "        \"community\": { \"location\": [ -2.0, -2.0, -2.0 ] },\n",
       "        \"decision\": { \"location\": [ 2.0, 2.0, 2.0 ] },\n",
       "        \"decision \": { \"location\": [ -2.0, -2.0, -2.0 ] },\n",
       "        \"emails\": { \"location\": [ -1.3454389186954623, -0.6698621143053013, -2.0 ] },\n",
       "        \"emotional labor\": { \"location\": [ -2.0, -2.0, -2.0 ] },\n",
       "        \"fairness\": { \"location\": [ -2.0, -2.0, -2.0 ] },\n",
       "        \"financial plans\": { \"location\": [ -2.0, -2.0, -2.0 ] },\n",
       "        \"grants\": { \"location\": [ 2.0, 2.0, 2.0 ] },\n",
       "        \"how people feel\": { \"location\": [ -2.0, -2.0, -2.0 ] },\n",
       "        \"infrastructure\": { \"location\": [ -2.0, -2.0, -2.0 ] },\n",
       "        \"kitchen\": { \"location\": [ 2.0, 2.0, 2.0 ] },\n",
       "        \"lawyers\": { \"location\": [ -2.0, -2.0, -2.0 ] },\n",
       "        \"learning things\": { \"location\": [ -2.0, -2.0, -1.5857699099330684 ] },\n",
       "        \"making a collective\": { \"location\": [ -2.0, -2.0, -2.0 ] },\n",
       "        \"making friends\": { \"location\": [ 2.0, 2.0, 2.0 ] },\n",
       "        \"making things\": { \"location\": [ -1.2569771687948728, -0.6244007554666469, -0.47718313667871015 ] },\n",
       "        \"organization\": { \"location\": [ 2.0, 2.0, 2.0 ] },\n",
       "        \"playing together\": { \"location\": [ -2.0, -2.0, -2.0 ] },\n",
       "        \"real estate\": { \"location\": [ -2.0, -2.0, -2.0 ] },\n",
       "        \"responsibility\": { \"location\": [ 1.3265201652544298, 1.3638947669165165, 2.0 ] },\n",
       "        \"sharing\": { \"location\": [ 2.0, 2.0, 2.0 ] },\n",
       "        \"shop\": { \"location\": [ 2.0, 2.0, 2.0 ] },\n",
       "        \"soft power\": { \"location\": [ 0.11022384616419047, 0.11329641926344407, 0.14029106639055086 ] },\n",
       "        \"space layout\": { \"location\": [ -2.0, -2.0, -2.0 ] },\n",
       "        \"spreadsheets\": { \"location\": [ 2.0, 2.0, 2.0 ] },\n",
       "        \"work exchange\": { \"location\": [ 2.0, 2.0, 2.0 ] }\n",
       "    }\n",
       "});\n",
       "\n",
       "               $d.resizable({\n",
       "                   aspectRatio: 600 / 400,\n",
       "                   resize: function (evt, ui) {\n",
       "                       $d.jgraph.renderer.setSize(ui.size.width,\n",
       "                                                  ui.size.height);\n",
       "                   }\n",
       "               });\n",
       "           });\n",
       "           </script>"
      ],
      "text/plain": [
       "<IPython.core.display.HTML object>"
      ]
     },
     "metadata": {},
     "output_type": "display_data"
    }
   ],
   "source": [
    "import jgraph\n",
    "jgraph.draw(edges)"
   ]
  },
  {
   "cell_type": "markdown",
   "metadata": {},
   "source": [
    "### Network Time\n"
   ]
  },
  {
   "cell_type": "code",
   "execution_count": 190,
   "metadata": {},
   "outputs": [],
   "source": [
    "all_nodes = []\n",
    "\n",
    "for e in edges:\n",
    "    # add the first node in the edge to all_nodes\n",
    "    all_nodes.append(e[0])\n",
    "    # add the second node in the edge to all_nodes\n",
    "    all_nodes.append(e[1])\n",
    "    \n",
    "# a 'set' is a data structure that can only contain unique elements --\n",
    "# so by converting to a set and back to a list, we get only a unique list of nodes.\n",
    "unique_nodes = list(set(all_nodes))\n",
    "\n",
    "\n",
    "#### here's a challenge: the single line below does the exact same thing as the lines of code above. can you see why?\n",
    "# unique_nodes = list(set([e for edge in edges for e in edge]))"
   ]
  },
  {
   "cell_type": "code",
   "execution_count": 202,
   "metadata": {},
   "outputs": [
    {
     "name": "stdout",
     "output_type": "stream",
     "text": [
      "{'accountability': ['fairness', 'responsibility'],\n",
      " 'awareness': ['community', 'soft power'],\n",
      " 'broken nails': ['making things'],\n",
      " 'budgeting': ['financial plans', 'buildout', 'work exchange', 'kitchen'],\n",
      " 'buildout': ['budgeting'],\n",
      " 'communication': ['responsibility'],\n",
      " 'community': ['awareness'],\n",
      " 'decision': ['spreadsheets', 'soft power'],\n",
      " 'decision ': ['making a collective'],\n",
      " 'emails': ['real estate', 'lawyers'],\n",
      " 'emotional labor': ['how people feel',\n",
      "                     'infrastructure',\n",
      "                     'soft power',\n",
      "                     'making a collective',\n",
      "                     'spreadsheets'],\n",
      " 'fairness': ['sharing', 'accountability', 'work exchange'],\n",
      " 'financial plans': ['spreadsheets',\n",
      "                     'space layout',\n",
      "                     'budgeting',\n",
      "                     'making a collective'],\n",
      " 'grants': ['work exchange'],\n",
      " 'how people feel': ['space layout',\n",
      "                     'making friends',\n",
      "                     'soft power',\n",
      "                     'emotional labor'],\n",
      " 'infrastructure': ['spreadsheets', 'responsibility', 'emotional labor'],\n",
      " 'kitchen': ['space layout', 'budgeting'],\n",
      " 'lawyers': ['emails'],\n",
      " 'learning things': ['making things', 'sharing'],\n",
      " 'making a collective': ['making friends',\n",
      "                         'financial plans',\n",
      "                         'decision ',\n",
      "                         'emotional labor'],\n",
      " 'making friends': ['playing together',\n",
      "                    'making things',\n",
      "                    'making a collective',\n",
      "                    'how people feel'],\n",
      " 'making things': ['shop',\n",
      "                   'learning things',\n",
      "                   'broken nails',\n",
      "                   'playing together',\n",
      "                   'making friends'],\n",
      " 'organization': ['spreadsheets', 'soft power'],\n",
      " 'playing together': ['making things', 'making friends'],\n",
      " 'real estate': ['emails', 'spreadsheets'],\n",
      " 'responsibility': ['accountability', 'communication', 'infrastructure'],\n",
      " 'sharing': ['learning things', 'fairness'],\n",
      " 'shop': ['space layout', 'making things'],\n",
      " 'soft power': ['space layout',\n",
      "                'decision',\n",
      "                'organization',\n",
      "                'how people feel',\n",
      "                'awareness',\n",
      "                'emotional labor'],\n",
      " 'space layout': ['financial plans',\n",
      "                  'kitchen',\n",
      "                  'shop',\n",
      "                  'how people feel',\n",
      "                  'soft power'],\n",
      " 'spreadsheets': ['financial plans',\n",
      "                  'organization',\n",
      "                  'real estate',\n",
      "                  'decision',\n",
      "                  'infrastructure',\n",
      "                  'emotional labor'],\n",
      " 'work exchange': ['budgeting', 'grants', 'fairness']}\n"
     ]
    }
   ],
   "source": [
    "# let's create a graph! \n",
    "# let's define a graph as a dict, which stores things in a key-value structure\n",
    "# for dicts, keys are like names on mailboxes, values are like the content inside the mailbox\n",
    "# you can 'look up' data using the key, and get what's inside.\n",
    "# dicts are great way to structure information.\n",
    "\n",
    "graph = {}\n",
    "\n",
    "# iterate through edges\n",
    "\n",
    "for edge in edges:\n",
    "    \n",
    "    # for each edge, let's define 'node_from' and 'node_to' so that the code is easier for humans to read\n",
    "\n",
    "    node_from = edge[0]\n",
    "    node_to = edge[1]\n",
    "    \n",
    "    # if the node_from doesn't already exist in the 'graph' dict, \n",
    "    # let's insert node_from as a key, and have the value be an empty array\n",
    "\n",
    "    if(node_from not in graph):\n",
    "        graph[node_from] = []\n",
    "    \n",
    "    # in the array that exists in graph[node_from], add node_to\n",
    "\n",
    "    graph[node_from].append(node_to)\n",
    "    \n",
    "    # let's do it in the reverse, since we'll assume that the graph isn't directed\n",
    "    # which means that there's no directional relationship.\n",
    " \n",
    "    if(node_to not in graph):\n",
    "        graph[node_to] = []\n",
    "    graph[node_to].append(node_from)\n",
    "    \n",
    "# now you can see how the data is structured!\n",
    "# compare this against the data output from the CSV and see if you can tell what's going on intuitively.\n",
    "pprint(graph)"
   ]
  },
  {
   "cell_type": "code",
   "execution_count": 203,
   "metadata": {},
   "outputs": [
    {
     "name": "stdout",
     "output_type": "stream",
     "text": [
      "dict_keys(['real estate', 'emails', 'spreadsheets', 'financial plans', 'lawyers', 'organization', 'space layout', 'budgeting', 'buildout', 'kitchen', 'shop', 'how people feel', 'soft power', 'making things', 'learning things', 'broken nails', 'sharing', 'work exchange', 'fairness', 'accountability', 'responsibility', 'grants', 'communication', 'playing together', 'making friends', 'making a collective', 'community', 'awareness', 'decision ', 'decision', 'infrastructure', 'emotional labor'])\n"
     ]
    }
   ],
   "source": [
    "# let's see all the keys!\n",
    "# this happens to equal the list of 'unique_nodes'.. and that's not a coincidence\n",
    "print(graph.keys())\n"
   ]
  },
  {
   "cell_type": "code",
   "execution_count": 233,
   "metadata": {},
   "outputs": [
    {
     "name": "stdout",
     "output_type": "stream",
     "text": [
      "work exchange ==> \n",
      "organization ==> \n",
      "spreadsheets ==> \n",
      "emotional labor ==> \n",
      "infrastructure ==> \n",
      "emotional labor ==> \n"
     ]
    }
   ],
   "source": [
    "# choose a random node and hop skip randomly to what it's connected to\n",
    "\n",
    "# choose a random node!\n",
    "current_node = random.choice(list(graph.keys()))\n",
    "\n",
    "print (thisnode + \" ==> \")\n",
    "\n",
    "# do this five times\n",
    "for i in range(5):\n",
    "    \n",
    "    # find all the options we can go to in the graph from 'current_node'\n",
    "    to_options = graph[current_node]\n",
    "    # pick one of those randomly and set 'current_node' that node\n",
    "    current_node = random.choice(to_options)\n",
    "    \n",
    "    print (current_node + \" ==> \")\n",
    "    \n",
    "    \n",
    "# try running this repeatedly"
   ]
  },
  {
   "cell_type": "code",
   "execution_count": 231,
   "metadata": {},
   "outputs": [
    {
     "name": "stdout",
     "output_type": "stream",
     "text": [
      "['accountability', 'responsibility', 'infrastructure', 'emotional labor', 'infrastructure']\n"
     ]
    }
   ],
   "source": [
    "# let's put this inside a function!\n",
    "\n",
    "def randomly_traverse_graph(graph, number_of_steps):\n",
    "\n",
    "    current_node = random.choice(list(graph.keys()))\n",
    "    \n",
    "    steps = []\n",
    "    steps.append(current_node)\n",
    "    \n",
    "    for i in range(number_of_steps - 1):\n",
    "        to_options = graph[current_node]\n",
    "        current_node = random.choice(to_options)\n",
    "        steps.append(current_node)\n",
    "        \n",
    "    return steps\n",
    "    \n",
    "    \n",
    "    \n",
    "print(randomly_traverse_graph(graph, 5))\n"
   ]
  },
  {
   "cell_type": "code",
   "execution_count": 496,
   "metadata": {},
   "outputs": [],
   "source": [
    "list_of_verbs = [\"affects\", \"changes\", \"alters\", \"relates to\", \"thinks about\",\"touches\",\"creates dreams about\",\"helps\",\"also is connected to\"]\n"
   ]
  },
  {
   "cell_type": "code",
   "execution_count": 296,
   "metadata": {},
   "outputs": [
    {
     "name": "stdout",
     "output_type": "stream",
     "text": [
      "spreadsheets thinks\n",
      "real estate creates dreams about\n",
      "emails relates to\n",
      "real estate touches\n",
      "emails affects\n"
     ]
    }
   ],
   "source": [
    "steps = randomly_traverse_graph(graph, 5)\n",
    "\n",
    "for s in steps:\n",
    "    random_verb = random.choice(list_of_verbs)\n",
    "    print(s + \" \" + random_verb)\n",
    "    "
   ]
  },
  {
   "cell_type": "code",
   "execution_count": 325,
   "metadata": {},
   "outputs": [
    {
     "name": "stdout",
     "output_type": "stream",
     "text": [
      "spreadsheets also is connected to real estate; real estate thinks emails; emails relates to real estate; real estate also is connected to emails.\n"
     ]
    }
   ],
   "source": [
    "poem = \"\"\n",
    "for i in range(len(steps) - 1):\n",
    "    step = steps[i]\n",
    "    next_step = steps[i + 1]\n",
    "    poem += step + \" \" + random.choice(list_of_verbs) + \" \" + next_step\n",
    "    \n",
    "    if(i == len(steps) - 2):\n",
    "        poem += \".\"\n",
    "    else:\n",
    "        poem += \"; \"    \n",
    "\n",
    "\n",
    "print(poem)"
   ]
  },
  {
   "cell_type": "code",
   "execution_count": 329,
   "metadata": {},
   "outputs": [
    {
     "name": "stdout",
     "output_type": "stream",
     "text": [
      "Collecting tracery\n",
      "  Downloading https://files.pythonhosted.org/packages/96/9a/7a7ffa8ace49ac6a3f422fdd83caf8d0ad0d132f01389f02845379033a7b/tracery-0.1.1.tar.gz\n",
      "Installing collected packages: tracery\n",
      "  Running setup.py install for tracery ... \u001b[?25ldone\n",
      "\u001b[?25hSuccessfully installed tracery-0.1.1\n"
     ]
    }
   ],
   "source": [
    "!pip install tracery"
   ]
  },
  {
   "cell_type": "code",
   "execution_count": 468,
   "metadata": {},
   "outputs": [],
   "source": [
    "import tracery\n",
    "from tracery.modifiers import base_english\n"
   ]
  },
  {
   "cell_type": "code",
   "execution_count": 526,
   "metadata": {},
   "outputs": [
    {
     "name": "stdout",
     "output_type": "stream",
     "text": [
      "the moon calmly helps the sun\n"
     ]
    }
   ],
   "source": [
    "def generate_simple_line(node_from, node_to):\n",
    "    grammarSource = {\n",
    "        \"node_from\": node_from,\n",
    "        \"node_to\": node_to,\n",
    "        \"adverb\": \"suddenly|silently|happily|surprisingly|calmly|beautifully\".split(\"|\"),\n",
    "        \"verb\":  [\"affects\", \"dances around\", \"changes\", \"alters\", \"relates to\", \"thinks about\",\"touches\",\"creates dreams about\",\"helps\",\"also is connected to\"],\n",
    "        \"poem\": \"#node_from# #adverb# #verb# #node_to#\"\n",
    "    }\n",
    "    grammar = tracery.Grammar(grammarSource)\n",
    "    return grammar.flatten(\"#poem#\")\n",
    "    \n",
    "print(generate_simple_line(\"the moon\", \"the sun\"))\n"
   ]
  },
  {
   "cell_type": "code",
   "execution_count": 524,
   "metadata": {},
   "outputs": [
    {
     "name": "stdout",
     "output_type": "stream",
     "text": [
      " swirling moon copiously reads from the sun,\n"
     ]
    }
   ],
   "source": [
    "\n",
    "\n",
    "def generate_poem_line(node_from, node_to):\n",
    "    grammarSource = {\n",
    "        \"node_from\": node_from,\n",
    "        \"node_to\": node_to,\n",
    "        \"wonderadj\": \"quiet|solemn|contemplative|still|tender|harmonious\".split(\"|\"),\n",
    "        \"tensionadj\": \"trembling|buzzing|vibrating|swirling\".split(\"|\"),\n",
    "        \"adj\": \"#wonderadj#|#tensionadj#\".split(\"|\"),\n",
    "        \"name\": \"fire|bother|wonder|winter\".split(\"|\"),\n",
    "        \"earlylate\": \"early |late |mid-\".split(\"|\"),\n",
    "        \"season\": \"autumn|summer|fall|winter\".split(\"|\"),\n",
    "        \"seasonornot\": \"|in #earlylate##season#,\".split(\"|\"),\n",
    "        \"adverbornot\": \"|#adverb#\".split(\"|\"),\n",
    "        \"adverb\": \"briskly|tartly|simply|harshly|fuzzily|freely|ably|copiously|furtively|endlessly|sarcastically|generatively|slowly|distinctly\".split(\"|\"),\n",
    "        \"verbs\": \"dances|thinks|touches|dreams|hesitates|loves|feels|wanders|does|sits|reads|looks|runs|asks|collapses|chats|donates\".split(\"|\"),\n",
    "        \"preposition\": \"around|about|with|of|to|from\".split(\"|\"),\n",
    "        \"lineending\": ['',',',';','--','.'],\n",
    "        \"thisa\": \"a|this|that||||one|our|their\".split(\"|\"),\n",
    "        \"poemline1\": \"#thisa# #adj# #node_from# #adverb# #verbs# #preposition# the #node_to##lineending#\",\n",
    "        \"poemline2\": \"#seasonornot# #node_from# and #node_to# #adverb# #verbs##lineending#\",\n",
    "        \"poem\": \"#poemline1#|#poemline2#\".split(\"|\")\n",
    "    }\n",
    "    grammar = tracery.Grammar(grammarSource)\n",
    "    return grammar.flatten(\"#poem#\")\n",
    "    \n",
    "print(generate_poem_line(\"moon\", \"sun\"))\n"
   ]
  },
  {
   "cell_type": "code",
   "execution_count": 530,
   "metadata": {},
   "outputs": [
    {
     "name": "stdout",
     "output_type": "stream",
     "text": [
      "our solemn spreadsheets endlessly dreams to the financial plans;\n",
      "in mid-fall, financial plans and making a collective copiously asks\n",
      "one quiet making a collective briskly dreams from the financial plans\n",
      " financial plans and space layout endlessly reads,\n",
      "one trembling space layout fuzzily chats about the how people feel--\n",
      " harmonious how people feel sarcastically feels of the soft power\n",
      "in late winter, soft power and space layout harshly asks\n",
      " trembling space layout freely hesitates about the financial plans--\n",
      "our trembling financial plans furtively wanders to the space layout\n",
      "\n"
     ]
    }
   ],
   "source": [
    "steps = randomly_traverse_graph(graph, 10)\n",
    "\n",
    "poem = \"\"\n",
    "for i in range(len(steps) - 1):\n",
    "    step = steps[i]\n",
    "    next_step = steps[i + 1]\n",
    "    poem += generate_poem_line(step, next_step) + \"\\n\"\n",
    "\n",
    "print(poem)"
   ]
  },
  {
   "cell_type": "code",
   "execution_count": 462,
   "metadata": {},
   "outputs": [
    {
     "data": {
      "text/plain": [
       "['',\n",
       " '',\n",
       " '',\n",
       " '',\n",
       " 'briskly',\n",
       " 'tartly',\n",
       " 'simply',\n",
       " 'harshly',\n",
       " 'fuzzily',\n",
       " 'freely',\n",
       " 'ably',\n",
       " 'copiously',\n",
       " 'furtively',\n",
       " 'endlessly',\n",
       " 'sarcastically',\n",
       " 'generatively',\n",
       " 'slowly',\n",
       " 'distinctly']"
      ]
     },
     "execution_count": 462,
     "metadata": {},
     "output_type": "execute_result"
    }
   ],
   "source": []
  },
  {
   "cell_type": "code",
   "execution_count": null,
   "metadata": {},
   "outputs": [],
   "source": []
  },
  {
   "cell_type": "code",
   "execution_count": null,
   "metadata": {},
   "outputs": [],
   "source": []
  }
 ],
 "metadata": {
  "kernelspec": {
   "display_name": "Python 3",
   "language": "python",
   "name": "python3"
  },
  "language_info": {
   "codemirror_mode": {
    "name": "ipython",
    "version": 3
   },
   "file_extension": ".py",
   "mimetype": "text/x-python",
   "name": "python",
   "nbconvert_exporter": "python",
   "pygments_lexer": "ipython3",
   "version": "3.6.5"
  }
 },
 "nbformat": 4,
 "nbformat_minor": 2
}
